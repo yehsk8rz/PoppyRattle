{
 "cells": [
  {
   "cell_type": "markdown",
   "metadata": {
    "deletable": true,
    "editable": true
   },
   "source": [
    "#  Poppy-Rattle\n",
    "\n",
    "\n",
    "The Poppy Rattle is a project that is focused on modeling the effects of toy interaction on infant development.\n",
    "For example, if given a rattle to shake, how does an infant develop motor skill such as rhythm? Are there any effects on an infants reactionss to sounds in general, and perhaps is there any effect on early language development? All of these questions are relevent to this project.\n",
    "\n",
    "This version uses the working Poppy-Rattle library. Using the poppy format, it can be be switched between physical and simulated mode by passing an argument in the initialization."
   ]
  },
  {
   "cell_type": "code",
   "execution_count": 1,
   "metadata": {
    "collapsed": false,
    "deletable": true,
    "editable": true
   },
   "outputs": [
    {
     "name": "stdout",
     "output_type": "stream",
     "text": [
      "Populating the interactive namespace from numpy and matplotlib\n"
     ]
    },
    {
     "data": {
      "text/plain": [
       "2822L"
      ]
     },
     "execution_count": 1,
     "metadata": {},
     "output_type": "execute_result"
    }
   ],
   "source": [
    "%pylab inline\n",
    "\n",
    "from __future__ import division # the python 3 division - outputs double instead of am int\n",
    "from __future__ import print_function # the python 3 print function - print()\n",
    "from tqdm import tqdm # library add a progrees bar for an iterating for loops\n",
    "\n",
    "from explauto.environment import environments # library environment for modeling implementation\n",
    "from librosa.feature import melspectrogram\n",
    "\n",
    "import time,datetime # librraies to keep track of times\n",
    "import threading  # library for multithreading workloads\n",
    "\n",
    "import os    #\n",
    "import wave  # library for recording sound and exporting as a wave file\n",
    "import alsaaudio, audioop, sys, librosa  # library for recording sound\n",
    "\n",
    "import numpy as np # python's standard linear algebra library: needed for static arrays\n",
    "import pandas as pd    #\n",
    "import matplotlib.pyplot as plt # library for graphing data\n",
    "import torch as th    # a python version of Lua's Torch ML library.\n",
    "\n",
    "from poppy.creatures import PoppyRattle\n",
    "poppy = PoppyRattle()    # creates poppy object. For physical robot \n",
    "# poppy = PoppyRattle(simulator='vrep')    # creates poppy object. For simulated robot. vrep scene needs work\n",
    "\n",
    "# for loop primes the motors to be programmed\n",
    "for m in poppy.motors:\n",
    "    m.compliant = False\n",
    "    #m.goto_behavior = 'minjerk' # prevents jerky movements\n",
    "\n",
    "# Python (array) lists to store feedback data\n",
    "\n",
    "# for physical robot\n",
    "pos = []\n",
    "# for simulator\n",
    "pos_Head = []    # Stores the position of the hand (wrist) relative to the head\n",
    "pos_Stand = []    # Stores the position of the hand (wrist) relative to the center point between the feet\n",
    "TIME = []    # Stores timestamps of when the arm is in a certain position\n",
    "sys_load = []    # Stores the torque the motors are going through at a point in time.\n",
    "                 # Good for being warry of the system load of a task and possibly calculating fatigue\n",
    "speed = []    # Stores the angle speed the motors are travelling at\n",
    "temp = []   # Stores the motors' temperature\n",
    "volt = []   # Stores the motor's voltage. \n",
    "            # In conjunction with Temperaure, this can be used to measure energy of a task\n",
    "\n",
    "# specific arrays for the rattle shaking movement\n",
    "data_table = []  # stores the sound features of a recording\n",
    "spike = [[],[]]  # stores instances of abnormal spikes in sound features and a given timestamp\n",
    "\n",
    "\n",
    "# activate microphone - A Logitech C920 webcam\n",
    "inp = alsaaudio.PCM(alsaaudio.PCM_CAPTURE,alsaaudio.PCM_NONBLOCK,device='sysdefault:CARD=C920')\n",
    "inp.setchannels(2)\n",
    "inp.setrate(88200)\n",
    "inp.setformat(alsaaudio.PCM_FORMAT_GSM)\n",
    "inp.setperiodsize(160)"
   ]
  },
  {
   "cell_type": "markdown",
   "metadata": {
    "deletable": true,
    "editable": true
   },
   "source": [
    "# Motors\n",
    "\n",
    "poppy.r_shoulder_x:\n",
    "    * id: 52\n",
    "    * motor type: Dynamixel MX-28\n",
    "    * orientation: indirect\n",
    "    * angle offset: 0.0 degrees\n",
    "    * angle limit: -100.0 to 0.0 degrees \n",
    "\n",
    "poppy.r_shoulder_y\n",
    "    * id: 51\n",
    "    * motor type: Dynamixel MX-28\n",
    "    * orientation: indirect\n",
    "    * angle offset: 0.0 degrees\n",
    "    * angle limit: -50.0 to 170.0 degrees \n",
    "    \n",
    "poppy.r_arm_z\n",
    "    * id: 53\n",
    "    * motor type: Dynamixel MX-28\n",
    "    * orientation: indirect\n",
    "    * angle offset: 0.0 degrees\n",
    "    * angle limit: -90.0 to 90.0 degrees \n",
    "\n",
    "poppy.r_elbow_y\n",
    "    * id: 54\n",
    "    * motor type: Dynamixel MX-28\n",
    "    * orientation: indirect\n",
    "    * angle offset: 0.0 degrees\n",
    "    * angle limit: 0.0 to 130.0 degrees "
   ]
  },
  {
   "cell_type": "markdown",
   "metadata": {
    "deletable": true,
    "editable": true
   },
   "source": [
    "## A number of function commands for the robot\n",
    "\n",
    "These will be added to primitves down the line."
   ]
  },
  {
   "cell_type": "code",
   "execution_count": 2,
   "metadata": {
    "collapsed": false,
    "deletable": true,
    "editable": true
   },
   "outputs": [],
   "source": [
    "def rest_position():\n",
    "    \"\"\"\n",
    "    This command function returns the arm to a \"resting\" position, although it is more on the \n",
    "    lines of the attention position.\n",
    "    \n",
    "    For the physical arm, it is important to calibrate the motors so that the resting position \n",
    "    is set for all the motors is at angle 0. The simulator defaults to this, so this will \n",
    "    eliminate the need to constantly translate angles when switching between the two.\n",
    "    \"\"\"\n",
    "    poppy.r_shoulder_x.goal_position = 0   \n",
    "    poppy.r_shoulder_y.goal_position = 0\n",
    "    poppy.r_arm_z.goal_position = 0\n",
    "    poppy.r_elbow_y.goal_position = 0\n",
    "    \n",
    "\n",
    "def app():\n",
    "    \"\"\"\n",
    "    This function merely appends system sensory information into the appropriate python list.\n",
    "    \"\"\"\n",
    "    \n",
    "    #\n",
    "    if poppy.simulated == True:\n",
    "        # appends wrist position relative to head position\n",
    "        pos_Head.append(poppy.get_object_position('r_forearm_visual','head_visual'))\n",
    "        # appends wrist position relative to the center point between the feet\n",
    "        pos_Stand.append(poppy.get_object_position('r_forearm_visual')) \n",
    "    else:\n",
    "        # stores the angle position of all the motors\n",
    "        pos.append(poppy.r_shoulder_x.present_position)\n",
    "        pos.append(poppy.r_shoulder_y.present_position)\n",
    "        pos.append(poppy.r_arm_z.present_position)\n",
    "        pos.append(poppy.r_elbow_y.present_position)\n",
    "    \n",
    "    # appends the stress each motor is going through\n",
    "    sys_load.append(poppy.r_shoulder_x.present_load)\n",
    "    sys_load.append(poppy.r_shoulder_y.present_load)\n",
    "    sys_load.append(poppy.r_arm_z.present_load)\n",
    "    sys_load.append(poppy.r_elbow_y.present_load)\n",
    "   \n",
    "    # appends the angle speed each motor is currently traveling at \n",
    "    speed.append(poppy.r_shoulder_x.present_speed)\n",
    "    speed.append(poppy.r_shoulder_y.present_speed)\n",
    "    speed.append(poppy.r_arm_z.present_speed)\n",
    "    speed.append(poppy.r_elbow_y.present_speed)\n",
    "    \n",
    "    # appends system temperature for each motor\n",
    "    temp.append(poppy.r_shoulder_x.present_temperature)\n",
    "    temp.append(poppy.r_shoulder_y.present_temperature)\n",
    "    temp.append(poppy.r_arm_z.present_temperature)\n",
    "    temp.append(poppy.r_elbow_y.present_temperature)\n",
    "    \n",
    "    # appends the voltage ruuning through each motor\n",
    "    volt.append(poppy.r_shoulder_x.present_voltage)\n",
    "    volt.append(poppy.r_shoulder_y.present_voltage)\n",
    "    volt.append(poppy.r_arm_z.present_voltage)\n",
    "    volt.append(poppy.r_elbow_y.present_voltage)\n",
    "\n",
    "\n",
    "def hand_wave(sec=10, rest=0.5):\n",
    "    \"\"\"\n",
    "    This function is a primitive. When called, the robotic arm will move between two set point in space, defined by the angles the motors are travelling to.\n",
    "    \n",
    "        :param int sec: time in seconds for how long the arm will wave\n",
    "            ::default is set to 10 seconds\n",
    "        :param float rest: time in seconds for the time the arm has to finish its motion\n",
    "            ::default is set to 1/2 a second \n",
    "    \"\"\"\n",
    "    poppy.r_shoulder_y.goal_position = -150\n",
    "    poppy.r_shoulder_x.goal_position = 30\n",
    "    poppy.r_arm_z.goal_position = -50\n",
    "    poppy.r_elbow_y.goal_position = 0\n",
    "    time.sleep(1)\n",
    "    t0 = time.time()   # Gets the timestamp at the start of the waving motion\n",
    "    \n",
    "    \n",
    "    # This will loop through the two arm positions until the set time duration has elapsed. \n",
    "    while True:\n",
    "        t1 = time.time() # Gets the timestamp at the end of each loop\n",
    "        \n",
    "        if t1-t0 >= sec: # This will end the loop and wave motion when the allotted time has expired\n",
    "            break\n",
    "            \n",
    "        \n",
    "        # run for sec\n",
    "        app()\n",
    "        TIME.append(t1-t0)\n",
    "        poppy.r_shoulder_y.goal_position = -150\n",
    "        app()\n",
    "        TIME.append(t1-t0)\n",
    "        poppy.r_shoulder_x.goal_position = 30\n",
    "        app()\n",
    "        TIME.append(t1-t0)\n",
    "        poppy.r_arm_z.goal_position = -50\n",
    "        app()\n",
    "        TIME.append(t1-t0)\n",
    "        poppy.r_elbow_y.goal_position = 0\n",
    "        \n",
    "        app()\n",
    "        TIME.append(t1-t0)\n",
    "        time.sleep(rest)\n",
    "    \n",
    "        app()\n",
    "        TIME.append(t1-t0)\n",
    "        poppy.r_shoulder_y.goal_position = -130\n",
    "        app()\n",
    "        TIME.append(t1-t0)\n",
    "        poppy.r_shoulder_x.goal_position = -10\n",
    "        app()\n",
    "        TIME.append(t1-t0)\n",
    "        poppy.r_arm_z.goal_position = -70\n",
    "        app()\n",
    "        TIME.append(t1-t0)\n",
    "        poppy.r_elbow_y.goal_position = -65\n",
    "        \n",
    "        app()\n",
    "        TIME.append(t1-t0)\n",
    "        \n",
    "        time.sleep(rest)\n",
    "        app()\n",
    "        TIME.append(t1-t0)\n",
    "        \n",
    "        \n",
    "  \n",
    "        \n",
    "\n",
    "    \n",
    "\n",
    "\n",
    "    \n",
    "def rattle_shake(sec=5, rest=0.4):\n",
    "    \"\"\"\n",
    "    This function is a primitive. When called, the robotic arm will move between two set point\n",
    "    in space, defined by the angles the motors are travelling to. This will make the arm \n",
    "    perform a vertical movement in order to imitate an infant shaking a rattle.\n",
    "\n",
    "        :param int sec: time in seconds for how long the arm will wave\n",
    "            ::default is set to 20 seconds\n",
    "        :param float rest: time in seconds for the time the arm has to finish its motion\n",
    "            ::default is set to 0.4 seconds\n",
    "    \"\"\"\n",
    "    \n",
    "    # define the first point in space\n",
    "    shoulder_y0 = -45\n",
    "    shoulder_x0 = 0\n",
    "    arm_0 = 0\n",
    "    elbow_0 = -65\n",
    "    \n",
    "    # define the second point in space\n",
    "    shoulder_y1 = -30\n",
    "    shoulder_x1 = 0\n",
    "    arm_1 = 0\n",
    "    elbow_1 = -35\n",
    "    \n",
    "\n",
    "    \n",
    "    \n",
    "    t0 = time.time() # Gets the timestamp at the start of the waving motion\n",
    "    \n",
    "    # This will loop through the two arm positions until the set time duration has elapsed. \n",
    "    while True:\n",
    "        t1 = time.time() # Gets the timestamp at the start of each loop\n",
    "        \n",
    "        # This will end the loop and wave motion when the allotted time has expired\n",
    "        if t1-t0 >= sec: \n",
    "            break\n",
    "            \n",
    "        # arm moves to first position\n",
    "        app()\n",
    "        TIME.append(t1-t0)\n",
    "        poppy.r_shoulder_y.goal_position = shoulder_y0 #-45\n",
    "        app()\n",
    "        TIME.append(t1-t0)\n",
    "        poppy.r_shoulder_x.goal_position = shoulder_x0 #5\n",
    "        app()\n",
    "        TIME.append(t1-t0)\n",
    "        poppy.r_arm_z.goal_position = arm_0 #20\n",
    "        app()\n",
    "        TIME.append(t1-t0)\n",
    "        poppy.r_elbow_y.goal_position = elbow_0 #-129\n",
    "        \n",
    "\n",
    "        \n",
    "        app()\n",
    "        TIME.append(t1-t0)\n",
    "        time.sleep(rest)\n",
    "        \n",
    "        \n",
    "        # arm moves to second position\n",
    "        app()\n",
    "        TIME.append(t1-t0)\n",
    "        poppy.r_shoulder_y.goal_position = shoulder_y1 #-25\n",
    "        app()\n",
    "        TIME.append(t1-t0)\n",
    "        poppy.r_shoulder_x.goal_position = shoulder_x1  #0\n",
    "        app()\n",
    "        TIME.append(t1-t0)\n",
    "        poppy.r_arm_z.goal_position = arm_1; #0\n",
    "        app()\n",
    "        TIME.append(t1-t0)\n",
    "        poppy.r_elbow_y.goal_position = elbow_1 #-10\n",
    "        \n",
    "\n",
    "\n",
    "       \n",
    "        app()\n",
    "        TIME.append(t1-t0)\n",
    "        time.sleep(rest)\n",
    "        \n",
    "        \n",
    "        \n",
    "        app()\n",
    "        TIME.append(t1-t0)\n",
    "    \n",
    "         \n",
    "\n",
    "\n",
    "    \n"
   ]
  },
  {
   "cell_type": "code",
   "execution_count": 3,
   "metadata": {
    "collapsed": true,
    "deletable": true,
    "editable": true
   },
   "outputs": [],
   "source": [
    "#This script is used to move the poppy arm into anatomical poses.\n",
    "#Pictures will be edited for an anatomical reference.\n",
    "def anatomical(rest=3):\n",
    "        time.sleep(rest)\n",
    "#Lateral View Pictures\n",
    "#Figure 1\n",
    "    #Motor 51 Shoulder Flexion\n",
    "        poppy.r_shoulder_y.goal_position = 49 \n",
    "        time.sleep(rest)\n",
    "        #Rest Position\n",
    "        rest_position()\n",
    "    #Motor 51 Shoulder Extension\n",
    "        poppy.r_shoulder_y.goal_position = -169 \n",
    "        time.sleep(rest)\n",
    "        #Rest Position\n",
    "        rest_position()\n",
    "#Figure 2\n",
    "    #Motor 54 Elbow Extension\n",
    "        poppy.r_elbow_y.goal_position = 0 \n",
    "        time.sleep(rest)\n",
    "        #Rest Position\n",
    "        rest_position()\n",
    "    #Motor 54 Elbow Flexion\n",
    "        poppy.r_elbow_y.goal_position = -129\n",
    "        time.sleep(rest)\n",
    "        #Rest Position\n",
    "        rest_position()\n",
    "            \n",
    "#Anterior View Pictures\n",
    "#Figure 3\n",
    "    #Motor 53 Pronation\n",
    "        poppy.r_arm_z.goal_position = -20 \n",
    "        time.sleep(rest)\n",
    "        #Rest Position\n",
    "        rest_position()\n",
    "    #Motor 53 Supination\n",
    "        poppy.r_arm_z.goal_position = 94 \n",
    "        time.sleep(rest)\n",
    "        #Rest Position\n",
    "        rest_position()\n",
    "#Figure 4       \n",
    "    #Motor 52 Adduction\n",
    "        poppy.r_shoulder_x.goal_position = 0\n",
    "        time.sleep(rest)\n",
    "        #Rest Position\n",
    "        rest_position()\n",
    "    #Motor 52 Abduction    \n",
    "        poppy.r_shoulder_x.goal_position = 89\n",
    "        time.sleep(rest)\n",
    "        #Rest Position\n",
    "        rest_position()\n",
    "\n"
   ]
  },
  {
   "cell_type": "code",
   "execution_count": null,
   "metadata": {
    "collapsed": true,
    "deletable": true,
    "editable": true
   },
   "outputs": [],
   "source": []
  },
  {
   "cell_type": "code",
   "execution_count": 4,
   "metadata": {
    "collapsed": true,
    "deletable": true,
    "editable": true
   },
   "outputs": [],
   "source": [
    "poppy.r_shoulder_y.goal_position = -150\n",
    "poppy.r_shoulder_x.goal_position = 30\n",
    "poppy.r_arm_z.goal_position = -50\n",
    "poppy.r_elbow_y.goal_position = 0"
   ]
  },
  {
   "cell_type": "code",
   "execution_count": 5,
   "metadata": {
    "collapsed": false,
    "deletable": true,
    "editable": true
   },
   "outputs": [
    {
     "name": "stdout",
     "output_type": "stream",
     "text": [
      "-149.23\n",
      "30.55\n",
      "-49.54\n",
      "0.13\n"
     ]
    }
   ],
   "source": [
    "for x in poppy.motors:\n",
    "    print(x.present_position)\n"
   ]
  },
  {
   "cell_type": "code",
   "execution_count": 6,
   "metadata": {
    "collapsed": false,
    "deletable": true,
    "editable": true
   },
   "outputs": [
    {
     "data": {
      "text/plain": [
       "{u'controllers': {u'upper_body_controller': {u'attached_motors': [u'r_arm'],\n",
       "   u'port': u'auto',\n",
       "   u'sync_read': False}},\n",
       " u'motorgroups': {u'r_arm': [u'r_shoulder_y',\n",
       "   u'r_shoulder_x',\n",
       "   u'r_arm_z',\n",
       "   u'r_elbow_y']},\n",
       " u'motors': {u'r_arm_z': {u'angle_limit': [-90, 90],\n",
       "   u'id': 53,\n",
       "   u'offset': 0.0,\n",
       "   u'orientation': u'direct',\n",
       "   u'type': u'MX-28'},\n",
       "  u'r_elbow_y': {u'angle_limit': [0, 130],\n",
       "   u'id': 54,\n",
       "   u'offset': 0.0,\n",
       "   u'orientation': u'indirect',\n",
       "   u'type': u'MX-28'},\n",
       "  u'r_shoulder_x': {u'angle_limit': [-100, 0],\n",
       "   u'id': 52,\n",
       "   u'offset': 0.0,\n",
       "   u'orientation': u'indirect',\n",
       "   u'type': u'MX-28'},\n",
       "  u'r_shoulder_y': {u'angle_limit': [-170, 170],\n",
       "   u'id': 51,\n",
       "   u'offset': 0,\n",
       "   u'orientation': u'indirect',\n",
       "   u'type': u'MX-28'}}}"
      ]
     },
     "execution_count": 6,
     "metadata": {},
     "output_type": "execute_result"
    }
   ],
   "source": [
    "poppy.config"
   ]
  },
  {
   "cell_type": "code",
   "execution_count": 7,
   "metadata": {
    "collapsed": true,
    "deletable": true,
    "editable": true
   },
   "outputs": [],
   "source": [
    "# audio recording setup\n",
    "# creates a new wavefile for each run\n",
    "def outFile():\n",
    "    return \"../in_Data/{}_rattle.wav\".format(datetime.datetime.fromtimestamp(time.time()).strftime('%Y-%m-%d_%H:%M:%S'))"
   ]
  },
  {
   "cell_type": "code",
   "execution_count": 15,
   "metadata": {
    "collapsed": false
   },
   "outputs": [],
   "source": [
    "def data_Output(outFile):\n",
    "    y, sr = librosa.load(outFile)\n",
    "    S = melspectrogram(y,sr)\n",
    "    \n",
    "    librosa.display.specshow(librosa.logamplitude(S),\n",
    "                            y_axis='mel',x_axis='time')\n",
    "    plt.colorbar(format='%+2.0f dB')\n",
    "    plt.title('Mel spectrogram')\n",
    "    plt.tight_layout()\n",
    "    \n",
    "    outPng = outFile.replace('in_Data','out_Data/png')\n",
    "    outPng = outPng.replace('.wav','.png')\n",
    "    outCSV = outFile.replace('in_Data','out_Data/csv')\n",
    "    outCSV = outCSV.replace('.wav','.png')\n",
    "    plt.savefig(outPng)\n",
    "    np.savetxt(outCSV, S,delimiter=',',fmt='%.3e')"
   ]
  },
  {
   "cell_type": "code",
   "execution_count": 11,
   "metadata": {
    "collapsed": true,
    "deletable": true,
    "editable": true
   },
   "outputs": [],
   "source": [
    "# function causes the rattle to shake and record audio\n",
    "def alsa_rattle(function,outFile):\n",
    "    # set up the wave file\n",
    "    w = wave.open(outFile,'w')\n",
    "    # Open the device in nonblocking capture mode. The last argument could\n",
    "    # just as well have been zero for blocking mode. Then we could have\n",
    "    # left out the sleep call in the bottomvim of the loop\n",
    "\n",
    "    w.setnchannels(2)\n",
    "    w.setsampwidth(2)\n",
    "    w.setframerate(44100)\n",
    "\n",
    "    total = 0\n",
    "    \n",
    "    # allows function to run in parallel\n",
    "    t = threading.Thread(target=function)\n",
    "    t.start()\n",
    "    timeStart = time.time()\n",
    "    while t.is_alive():\n",
    "        timeStop = time.time()\n",
    "        l,data = inp.read()\n",
    "        if l:\n",
    "            # Return the maximum of the absolute value of all samples in a fragment.\n",
    "            frame = audioop.max(data,2)\n",
    "            data_table.append(frame)\n",
    "            total += frame\n",
    "            ave = total / len(data_table)\n",
    "            if(len(data_table) > 25) :\n",
    "                if (frame > ave * 1.34):\n",
    "                    spike[0].append(timeStop - timeStart)\n",
    "                    spike[1].append(frame)\n",
    "            w.writeframes(data)\n",
    "            # print audioop.max(data, 2)\n",
    "        time.sleep(.001)\n",
    "    rest_position()\n",
    "    data_Output(outFile)\n",
    "    "
   ]
  },
  {
   "cell_type": "markdown",
   "metadata": {
    "deletable": true,
    "editable": true
   },
   "source": [
    "## Resets the arrays and returns the arm to the resting position\n",
    "\n",
    "Useful for getting data on different motions independently."
   ]
  },
  {
   "cell_type": "code",
   "execution_count": 12,
   "metadata": {
    "collapsed": true,
    "deletable": true,
    "editable": true
   },
   "outputs": [],
   "source": [
    "rest_position()\n",
    "\n",
    "pos_Head = []\n",
    "pos_Stand = []\n",
    "pos = []\n",
    "TIME = []\n",
    "sys_load = []\n",
    "speed = []\n",
    "temp = []\n",
    "volt = []\n",
    "data_table = []  \n",
    "spike = [[],[]] "
   ]
  },
  {
   "cell_type": "markdown",
   "metadata": {
    "deletable": true,
    "editable": true
   },
   "source": [
    "### Calling movement functions"
   ]
  },
  {
   "cell_type": "code",
   "execution_count": 13,
   "metadata": {
    "collapsed": false,
    "deletable": true,
    "editable": true
   },
   "outputs": [],
   "source": [
    "# Run to to make the arm wave\n",
    "hand_wave()\n",
    "time.sleep(0.25) # Gives the arm a little time to complete a motion before commencing the next action\n",
    "rest_position()  # Optional: returns the arm to the resting position"
   ]
  },
  {
   "cell_type": "code",
   "execution_count": 14,
   "metadata": {
    "collapsed": false,
    "deletable": true,
    "editable": true
   },
   "outputs": [
    {
     "ename": "NameError",
     "evalue": "global name 'outFil' is not defined",
     "output_type": "error",
     "traceback": [
      "\u001b[0;31m---------------------------------------------------------------------------\u001b[0m",
      "\u001b[0;31mNameError\u001b[0m                                 Traceback (most recent call last)",
      "\u001b[0;32m<ipython-input-14-d1d709df0d14>\u001b[0m in \u001b[0;36m<module>\u001b[0;34m()\u001b[0m\n\u001b[1;32m      1\u001b[0m \u001b[0;31m# Run to make the arm perform a rattle shake movement\u001b[0m\u001b[0;34m\u001b[0m\u001b[0;34m\u001b[0m\u001b[0m\n\u001b[1;32m      2\u001b[0m \u001b[0mout\u001b[0m \u001b[0;34m=\u001b[0m \u001b[0moutFile\u001b[0m\u001b[0;34m(\u001b[0m\u001b[0;34m)\u001b[0m\u001b[0;34m\u001b[0m\u001b[0m\n\u001b[0;32m----> 3\u001b[0;31m \u001b[0malsa_rattle\u001b[0m\u001b[0;34m(\u001b[0m\u001b[0mrattle_shake\u001b[0m\u001b[0;34m,\u001b[0m \u001b[0mout\u001b[0m\u001b[0;34m)\u001b[0m\u001b[0;34m\u001b[0m\u001b[0m\n\u001b[0m\u001b[1;32m      4\u001b[0m \u001b[0mtime\u001b[0m\u001b[0;34m.\u001b[0m\u001b[0msleep\u001b[0m\u001b[0;34m(\u001b[0m\u001b[0;36m0.25\u001b[0m\u001b[0;34m)\u001b[0m \u001b[0;31m# Gives the arm a little time to complete a motion before commencing the next action\u001b[0m\u001b[0;34m\u001b[0m\u001b[0m\n\u001b[1;32m      5\u001b[0m \u001b[0mrest_position\u001b[0m\u001b[0;34m(\u001b[0m\u001b[0;34m)\u001b[0m  \u001b[0;31m# Optional: returns the arm to the resting position\u001b[0m\u001b[0;34m\u001b[0m\u001b[0m\n",
      "\u001b[0;32m<ipython-input-11-6d6664230310>\u001b[0m in \u001b[0;36malsa_rattle\u001b[0;34m(function, outFile)\u001b[0m\n\u001b[1;32m     34\u001b[0m         \u001b[0mtime\u001b[0m\u001b[0;34m.\u001b[0m\u001b[0msleep\u001b[0m\u001b[0;34m(\u001b[0m\u001b[0;36m.001\u001b[0m\u001b[0;34m)\u001b[0m\u001b[0;34m\u001b[0m\u001b[0m\n\u001b[1;32m     35\u001b[0m     \u001b[0mrest_position\u001b[0m\u001b[0;34m(\u001b[0m\u001b[0;34m)\u001b[0m\u001b[0;34m\u001b[0m\u001b[0m\n\u001b[0;32m---> 36\u001b[0;31m     \u001b[0mdata_Output\u001b[0m\u001b[0;34m(\u001b[0m\u001b[0moutFile\u001b[0m\u001b[0;34m)\u001b[0m\u001b[0;34m\u001b[0m\u001b[0m\n\u001b[0m\u001b[1;32m     37\u001b[0m \u001b[0;34m\u001b[0m\u001b[0m\n",
      "\u001b[0;32m<ipython-input-10-4eb30f168d00>\u001b[0m in \u001b[0;36mdata_Output\u001b[0;34m(outFile)\u001b[0m\n\u001b[1;32m     11\u001b[0m     \u001b[0moutFile\u001b[0m \u001b[0;34m=\u001b[0m \u001b[0moutFile\u001b[0m\u001b[0;34m.\u001b[0m\u001b[0mreplace\u001b[0m\u001b[0;34m(\u001b[0m\u001b[0;34m'in'\u001b[0m\u001b[0;34m,\u001b[0m\u001b[0;34m'out'\u001b[0m\u001b[0;34m)\u001b[0m\u001b[0;34m\u001b[0m\u001b[0m\n\u001b[1;32m     12\u001b[0m     \u001b[0mplt\u001b[0m\u001b[0;34m.\u001b[0m\u001b[0msavefig\u001b[0m\u001b[0;34m(\u001b[0m\u001b[0moutFile\u001b[0m\u001b[0;34m.\u001b[0m\u001b[0mreplace\u001b[0m\u001b[0;34m(\u001b[0m\u001b[0;34m'.wav'\u001b[0m\u001b[0;34m,\u001b[0m\u001b[0;34m'.png'\u001b[0m\u001b[0;34m)\u001b[0m\u001b[0;34m)\u001b[0m\u001b[0;34m\u001b[0m\u001b[0m\n\u001b[0;32m---> 13\u001b[0;31m     \u001b[0mnp\u001b[0m\u001b[0;34m.\u001b[0m\u001b[0msavetxt\u001b[0m\u001b[0;34m(\u001b[0m\u001b[0moutFil\u001b[0m\u001b[0;34m.\u001b[0m\u001b[0mreplace\u001b[0m\u001b[0;34m(\u001b[0m\u001b[0;34m'.wav'\u001b[0m\u001b[0;34m,\u001b[0m\u001b[0;34m'.csv'\u001b[0m\u001b[0;34m,\u001b[0m \u001b[0mS\u001b[0m\u001b[0;34m,\u001b[0m\u001b[0mdelimiter\u001b[0m\u001b[0;34m=\u001b[0m\u001b[0;34m','\u001b[0m\u001b[0;34m,\u001b[0m\u001b[0mfmt\u001b[0m\u001b[0;34m=\u001b[0m\u001b[0;34m'%.3e'\u001b[0m\u001b[0;34m)\u001b[0m\u001b[0;34m)\u001b[0m\u001b[0;34m\u001b[0m\u001b[0m\n\u001b[0m",
      "\u001b[0;31mNameError\u001b[0m: global name 'outFil' is not defined"
     ]
    },
    {
     "data": {
      "image/png": "[encoded data removed]",
      "text/plain": [
       "<matplotlib.figure.Figure at 0x7f60f81f0c10>"
      ]
     },
     "metadata": {},
     "output_type": "display_data"
    }
   ],
   "source": [
    "# Run to make the arm perform a rattle shake movement\n",
    "out = outFile()\n",
    "alsa_rattle(rattle_shake, out)\n",
    "time.sleep(0.25) # Gives the arm a little time to complete a motion before commencing the next action\n",
    "rest_position()  # Optional: returns the arm to the resting position"
   ]
  },
  {
   "cell_type": "code",
   "execution_count": null,
   "metadata": {
    "collapsed": true,
    "deletable": true,
    "editable": true
   },
   "outputs": [],
   "source": [
    "melspectrogram"
   ]
  },
  {
   "cell_type": "code",
   "execution_count": null,
   "metadata": {
    "collapsed": true,
    "deletable": true,
    "editable": true
   },
   "outputs": [],
   "source": []
  },
  {
   "cell_type": "code",
   "execution_count": 10,
   "metadata": {
    "collapsed": false,
    "deletable": true,
    "editable": true
   },
   "outputs": [
    {
     "data": {
      "text/plain": [
       "{u'controllers': {u'upper_body_controller': {u'attached_motors': [u'r_arm'],\n",
       "   u'port': u'auto',\n",
       "   u'sync_read': False}},\n",
       " u'motorgroups': {u'r_arm': [u'r_shoulder_y',\n",
       "   u'r_shoulder_x',\n",
       "   u'r_arm_z',\n",
       "   u'r_elbow_y']},\n",
       " u'motors': {u'r_arm_z': {u'angle_limit': [-90, 90],\n",
       "   u'id': 53,\n",
       "   u'offset': 0.0,\n",
       "   u'orientation': u'direct',\n",
       "   u'type': u'MX-28'},\n",
       "  u'r_elbow_y': {u'angle_limit': [0, 130],\n",
       "   u'id': 54,\n",
       "   u'offset': 0.0,\n",
       "   u'orientation': u'indirect',\n",
       "   u'type': u'MX-28'},\n",
       "  u'r_shoulder_x': {u'angle_limit': [-100, 0],\n",
       "   u'id': 52,\n",
       "   u'offset': 0.0,\n",
       "   u'orientation': u'indirect',\n",
       "   u'type': u'MX-28'},\n",
       "  u'r_shoulder_y': {u'angle_limit': [-170, 170],\n",
       "   u'id': 51,\n",
       "   u'offset': 0,\n",
       "   u'orientation': u'indirect',\n",
       "   u'type': u'MX-28'}}}"
      ]
     },
     "execution_count": 10,
     "metadata": {},
     "output_type": "execute_result"
    }
   ],
   "source": [
    "poppy.config"
   ]
  },
  {
   "cell_type": "markdown",
   "metadata": {
    "collapsed": true,
    "deletable": true,
    "editable": true
   },
   "source": [
    "## Run when experiments are done\n",
    "\n",
    "This cell resets the robot and releases the robot.\n",
    "After running this set of commands, rerunning the setup cell is necessary\n",
    "\n",
    "### **NOTE**\n",
    "If this fails or some error occurs, it may be necessary to run a hard reset:\n",
    "    \n",
    "    For physical robot:\n",
    "        1. Unplug the robot\n",
    "    \n",
    "    For simulator:\n",
    "        1.Close the simulator\n",
    "    \n",
    "    2. Save and shutdown the ipython notebook\n",
    "    3. It may be a good idea to also close the jupyter-notebook server and restart from there."
   ]
  },
  {
   "cell_type": "code",
   "execution_count": null,
   "metadata": {
    "collapsed": true,
    "deletable": true,
    "editable": true
   },
   "outputs": [],
   "source": [
    "# RUN at the end of working\n",
    "\n",
    "pos = []\n",
    "pos_Head = []\n",
    "pos_Stand = []\n",
    "TIME = []\n",
    "sys_load = []\n",
    "speed = []\n",
    "temp = []\n",
    "volt = []\n",
    "data_table = []\n",
    "spike = [[],[]]\n",
    "for m in poppy.motors:\n",
    "    m.compliant = True\n",
    "time.sleep(1)\n",
    "poppy.stop_sync()\n",
    "poppy.close()"
   ]
  },
  {
   "cell_type": "code",
   "execution_count": 31,
   "metadata": {
    "collapsed": true,
    "deletable": true,
    "editable": true
   },
   "outputs": [],
   "source": [
    "poppy.r_elbow_y.goal_position = -50 #0"
   ]
  },
  {
   "cell_type": "code",
   "execution_count": null,
   "metadata": {
    "collapsed": true,
    "deletable": true,
    "editable": true
   },
   "outputs": [],
   "source": [
    "# rms feature extraction - feed into explauto\n",
    "# proportion/total power over 400hz\n",
    "# mel spectrogram\n",
    "# amek explauto learn the motor sounds"
   ]
  }
 ],
 "metadata": {
  "kernelspec": {
   "display_name": "Python 2",
   "language": "python",
   "name": "python2"
  },
  "language_info": {
   "codemirror_mode": {
    "name": "ipython",
    "version": 2
   },
   "file_extension": ".py",
   "mimetype": "text/x-python",
   "name": "python",
   "nbconvert_exporter": "python",
   "pygments_lexer": "ipython2",
   "version": "2.7.12"
  }
 },
 "nbformat": 4,
 "nbformat_minor": 2
}
