{
 "cells": [
  {
   "cell_type": "markdown",
   "metadata": {
    "deletable": true,
    "editable": true
   },
   "source": [
    "#  Poppy-Right-Arm - Simulator version\n",
    "\n",
    "\n",
    "The Poppy Right Arm is a project that is focused on modeling the effects of toy interaction on infant development.\n",
    "For example, if given a rattle to shake, how does an infant develop motor skill such as rhythm? Are there any effects on an infants reactionss to sounds in general, and perhaps is there any effect on early language development? All of these questions are relevent to this project.\n",
    "\n",
    "This version of the notebook is for working with the V-rep simulator.\n",
    "A scene for the poppy right arm has not been developed yet, so using the stationary poppy humanoid is needed in its place.\n",
    "As the physical robot can only have sensor data collected from the joints via sensors on the motor, this is useful for modeling the specifics of the hand rather than the rist in spatial relativity tothe head."
   ]
  },
  {
   "cell_type": "markdown",
   "metadata": {
    "deletable": true,
    "editable": true
   },
   "source": [
    "## Imports and general setup"
   ]
  },
  {
   "cell_type": "code",
   "execution_count": null,
   "metadata": {
    "collapsed": false,
    "deletable": true,
    "editable": true
   },
   "outputs": [],
   "source": [
    "# needed for plotting within a notebook cell\n",
    "%pylab inline\n",
    "\n",
    "import time    # library for time based functionality\n",
    "\n",
    "import numpy as np    # Python's linear algrabra library - needed for static arrays \n",
    "\n",
    "# Matplotlib is one of Python's standard library for plotting data\n",
    "from mpl_toolkits.mplot3d import Axes3D    # This first library is specifically for plotting on a 3D plane\n",
    "import matplotlib.pyplot as plt    # This is the general matplotlib library\n",
    "\n",
    "# These are needed for the actual robot\n",
    "import pypot.robot    # This is needed for the physical robot\n",
    "from poppy.creatures import PoppyHumanoid    # The humanoid library is needed in order to use the simulator\n",
    "\n",
    "poppy = PoppyHumanoid(simulator='vrep')    # initialization for the robot in the simulator\n",
    "\n",
    "# Preps the motors for use\n",
    "for m in poppy.motors:\n",
    "    m.compliant = False    # makes all the joints in the robot stiff, which is better for holding positions\n",
    "                           # making them flexible is for more human-robot interactions\n",
    "    m.goto_behavior = 'minjerk'    # minimizes jerking motions - makes movements as smooth as possible\n",
    "                                   # Folows Hogan and Flash's minimum jerk hypothesis\n",
    "                                   # For more information,see: http://nbviewer.ipython.org/github/demotu/BMC/blob/master/notebooks/MinimumJerkHypothesis.ipynb\n",
    "\n",
    "            \n",
    "# Python (array) lists to store feedback data\n",
    "pos_Head = []    # Stores the position of the hand (center of palm) relative to the head\n",
    "pos_Stand = []    # Stores the position of the hand (center of palm) relative to the center point between the feet\n",
    "TIME = []    # Stores timestamps of when the arm is in a certain position\n",
    "sys_load = []    # Stores the torque the motors are going through at a point in time.\n",
    "                 # Good for being warry of the system load of a task and possibly calculating fatigue\n",
    "speed = []    # Stores the angle speed the motors are travelling at\n",
    "temp = []   # Stores the motors' temperature\n",
    "volt = []   # Stores the motor's voltage. \n",
    "            # In conjunction with Temperaure, this can be used to measure energy of a task"
   ]
  },
  {
   "cell_type": "markdown",
   "metadata": {
    "deletable": true,
    "editable": true
   },
   "source": [
    "# Motors\n",
    "\n",
    "poppy.r_shoulder_x:\n",
    "    \n",
    "* id: 51\n",
    "* motor type: Dynamixel MX-28\n",
    "* angle offset: 0.0 degrees\n",
    "    \n",
    "\n",
    "poppy.r_shoulder_y\n",
    "\n",
    "poppy.r_arm_z\n",
    "\n",
    "poppy.r_elbow_y"
   ]
  },
  {
   "cell_type": "markdown",
   "metadata": {
    "deletable": true,
    "editable": true
   },
   "source": [
    "## A number of function commands for the robot"
   ]
  },
  {
   "cell_type": "code",
   "execution_count": null,
   "metadata": {
    "collapsed": true,
    "deletable": true,
    "editable": true
   },
   "outputs": [],
   "source": [
    "def rest_position():\n",
    "    \"\"\"\n",
    "    This command function returns the arm to a \"resting\" position, although it is more on the lines of the \n",
    "    attention position.\n",
    "    \n",
    "    For the physical arm, it is important to calibrate the motors so that the resting position is set for all the\n",
    "    motors is at angle 0. The simulator defaults to this, so this will eliminate the need to constantly \n",
    "    translate angles when switching between the two.\n",
    "    \"\"\"\n",
    "    poppy.r_shoulder_x.goal_position = 0    # Controls the motor \n",
    "    poppy.r_shoulder_y.goal_position = 0\n",
    "    poppy.r_arm_z.goal_position = 0\n",
    "    poppy.r_elbow_y.goal_position = 0\n",
    "    "
   ]
  },
  {
   "cell_type": "code",
   "execution_count": null,
   "metadata": {
    "collapsed": false,
    "deletable": true,
    "editable": true
   },
   "outputs": [],
   "source": [
    "def app():\n",
    "    pos_Head.append(poppy.get_object_position('r_forearm_visual','head_visual'))\n",
    "    pos_Stand.append(poppy.get_object_position('r_forearm_visual'))\n",
    "    \n",
    "    sys_load.append(poppy.r_shoulder_x.present_load)\n",
    "    sys_load.append(poppy.r_shoulder_y.present_load)\n",
    "    sys_load.append(poppy.r_arm_z.present_load)\n",
    "    sys_load.append(poppy.r_elbow_y.present_load)\n",
    "    \n",
    "    speed.append(poppy.r_shoulder_x.present_speed)\n",
    "    speed.append(poppy.r_shoulder_y.present_speed)\n",
    "    speed.append(poppy.r_arm_z.present_speed)\n",
    "    speed.append(poppy.r_elbow_y.present_speed)\n",
    "    \n",
    "    temp.append(poppy.r_shoulder_x.present_temperature)\n",
    "    temp.append(poppy.r_shoulder_y.present_temperature)\n",
    "    temp.append(poppy.r_arm_z.present_temperature)\n",
    "    temp.append(poppy.r_elbow_y.present_temperature)\n",
    "     \n",
    "    volt.append(poppy.r_shoulder_x.present_voltage)\n",
    "    volt.append(poppy.r_shoulder_y.present_voltage)\n",
    "    volt.append(poppy.r_arm_z.present_voltage)\n",
    "    volt.append(poppy.r_elbow_y.present_voltage)"
   ]
  },
  {
   "cell_type": "code",
   "execution_count": null,
   "metadata": {
    "collapsed": true,
    "deletable": true,
    "editable": true
   },
   "outputs": [],
   "source": [
    "def hand_wave(sec=10, rest=0.5):\n",
    "    \"\"\"\"\"\"\n",
    "    t0 = time.time()\n",
    "    while True:\n",
    "        \n",
    "        t1 = time.time()\n",
    "        if t1-t0 >= sec:\n",
    "            break\n",
    "\n",
    "        # run for sec\n",
    "        app()\n",
    "        TIME.append(t1-t0)\n",
    "        poppy.r_shoulder_y.goal_position = 30\n",
    "        app()\n",
    "        TIME.append(t1-t0)\n",
    "        poppy.r_shoulder_x.goal_position = -135\n",
    "        app()\n",
    "        TIME.append(t1-t0)\n",
    "        poppy.r_arm_z.goal_position = -120;\n",
    "        app()\n",
    "        TIME.append(t1-t0)\n",
    "        poppy.r_elbow_y.goal_position = 0\n",
    "        \n",
    "        app()\n",
    "        TIME.append(t1-t0)\n",
    "        time.sleep(rest)\n",
    "    \n",
    "        app()\n",
    "        TIME.append(t1-t0)\n",
    "        poppy.r_shoulder_y.goal_position = 45\n",
    "        app()\n",
    "        TIME.append(t1-t0)\n",
    "        poppy.r_shoulder_x.goal_position = -175\n",
    "        app()\n",
    "        TIME.append(t1-t0)\n",
    "        poppy.r_arm_z.goal_position = -120\n",
    "        app()\n",
    "        TIME.append(t1-t0)\n",
    "        poppy.r_elbow_y.goal_position = -65\n",
    "        \n",
    "        app()\n",
    "        TIME.append(t1-t0)\n",
    "        \n",
    "        time.sleep(rest)\n",
    "        app()\n",
    "        TIME.append(t1-t0)"
   ]
  },
  {
   "cell_type": "code",
   "execution_count": null,
   "metadata": {
    "collapsed": true,
    "deletable": true,
    "editable": true
   },
   "outputs": [],
   "source": [
    "def hand_shake(sec=3, rest=0.5):\n",
    "\n",
    "    t0 = time.time()\n",
    "    \n",
    "    while True:\n",
    "        \n",
    "        t1 = time.time()\n",
    "        if t1-t0 >= sec:\n",
    "            break \n",
    "        \n",
    "        app()\n",
    "        TIME.append(t1-t0)\n",
    "        poppy.r_shoulder_y.goal_position = 35\n",
    "        app()\n",
    "        TIME.append(t1-t0)\n",
    "        poppy.r_shoulder_x.goal_position = -135\n",
    "        app()\n",
    "        TIME.append(t1-t0)\n",
    "        poppy.r_elbow_y.goal_position = 90\n",
    "        app()\n",
    "        TIME.append(t1-t0)\n",
    "        poppy.r_arm_z.goal_position = 25\n",
    "        time.sleep(rest-.01)\n",
    "        \n",
    "        app()\n",
    "        poppy.r_shoulder_y.goal_position = 50\n",
    "        TIME.append(t1-t0)\n",
    "        time.sleep(rest+0.1)\n",
    "        \n",
    "        "
   ]
  },
  {
   "cell_type": "code",
   "execution_count": null,
   "metadata": {
    "collapsed": false,
    "deletable": true,
    "editable": true
   },
   "outputs": [],
   "source": []
  },
  {
   "cell_type": "code",
   "execution_count": null,
   "metadata": {
    "collapsed": true,
    "deletable": true,
    "editable": true
   },
   "outputs": [],
   "source": [
    "rest_position()\n",
    "# reset arrays\n",
    "pos_Head = []\n",
    "pos_Stand = []\n",
    "TIME = []\n",
    "sys_load = []\n",
    "speed = []\n",
    "temp = []\n",
    "volt = []"
   ]
  },
  {
   "cell_type": "code",
   "execution_count": null,
   "metadata": {
    "collapsed": true,
    "deletable": true,
    "editable": true
   },
   "outputs": [],
   "source": [
    "hand_wave()\n",
    "time.sleep(0.25)\n",
    "rest_position()"
   ]
  },
  {
   "cell_type": "code",
   "execution_count": null,
   "metadata": {
    "collapsed": true,
    "deletable": true,
    "editable": true
   },
   "outputs": [],
   "source": [
    "hand_shake()\n",
    "time.sleep(0.25)\n",
    "rest_position()"
   ]
  },
  {
   "cell_type": "code",
   "execution_count": null,
   "metadata": {
    "collapsed": false,
    "deletable": true,
    "editable": true
   },
   "outputs": [],
   "source": [
    "print len(pos_Head)\n",
    "print len(pos_Stand)\n",
    "print len(TIME)\n"
   ]
  },
  {
   "cell_type": "code",
   "execution_count": null,
   "metadata": {
    "collapsed": false,
    "deletable": true,
    "editable": true
   },
   "outputs": [],
   "source": [
    "# formatting into arrays\n",
    "pos_Head_Arr = np.asarray(pos_Head)\n",
    "pos_Stand_Arr = np.asarray(pos_Stand)\n",
    "sys_load_Arr = np.asarray(sys_load)\n",
    "speed_Arr = np.asarray(speed)\n",
    "temp_Arr = np.asarray(temp)\n",
    "volt_Arr = np.asarray(volt)\n",
    "TIME_Arr = np.asarray(TIME)\n",
    "\n",
    "\n",
    "sys_load_Arr = sys_load_Arr.reshape((sys_load_Arr.size / 4,4))\n",
    "speed_Arr = speed_Arr.reshape((speed_Arr.size / 4,4))\n",
    "temp_Arr = temp_Arr.reshape((temp_Arr.size / 4,4))\n",
    "volt_Arr = volt_Arr.reshape((volt_Arr.size / 4, 4))"
   ]
  },
  {
   "cell_type": "code",
   "execution_count": null,
   "metadata": {
    "collapsed": false,
    "deletable": true,
    "editable": true
   },
   "outputs": [],
   "source": [
    "print pos_Head_Arr.size\n",
    "print TIME_Arr.size\n",
    "print speed_Arr[:,0].size"
   ]
  },
  {
   "cell_type": "code",
   "execution_count": null,
   "metadata": {
    "collapsed": false,
    "deletable": true,
    "editable": true
   },
   "outputs": [],
   "source": [
    "standard = axes(projection='3d')\n",
    "standard.scatter(*array(pos_Head_Arr).T)"
   ]
  },
  {
   "cell_type": "code",
   "execution_count": null,
   "metadata": {
    "collapsed": false,
    "deletable": true,
    "editable": true
   },
   "outputs": [],
   "source": [
    "pos_Head_Arr"
   ]
  },
  {
   "cell_type": "code",
   "execution_count": null,
   "metadata": {
    "collapsed": false,
    "deletable": true,
    "editable": true
   },
   "outputs": [],
   "source": [
    "head = axes(projection='3d')\n",
    "head.scatter(*array(pos_Stand_Arr).T)"
   ]
  },
  {
   "cell_type": "markdown",
   "metadata": {
    "deletable": true,
    "editable": true
   },
   "source": [
    "## Run when experiments are done\n",
    "\n",
    "This cell resets the robot and releases the robot.\n",
    "After running this set of commands, rerunning the setup cell is necessary\n",
    "\n",
    "### **NOTE**\n",
    "If this fails or some error occurs, it may be necessary to run a hard reset:\n",
    "    \n",
    "    For physical robot:\n",
    "        1. Unplug the robot\n",
    "    \n",
    "    For simulator:\n",
    "        1.Close the simulator\n",
    "    \n",
    "    2. Save and shutdown the ipython notebook\n",
    "    3. It may be a good idea to also close the jupyter-notebook server and restart from there."
   ]
  },
  {
   "cell_type": "code",
   "execution_count": null,
   "metadata": {
    "collapsed": false,
    "deletable": true,
    "editable": true
   },
   "outputs": [],
   "source": [
    "reached_pt_Stand = []\n",
    "reached_pt_Head = []\n",
    "for m in poppy.motors:\n",
    "    m.compliant = True\n",
    "time.sleep(2)\n",
    "poppy.stop_sync()\n",
    "poppy.close()"
   ]
  },
  {
   "cell_type": "code",
   "execution_count": null,
   "metadata": {
    "collapsed": true,
    "deletable": true,
    "editable": true
   },
   "outputs": [],
   "source": []
  }
 ],
 "metadata": {
  "kernelspec": {
   "display_name": "Python 2",
   "language": "python",
   "name": "python2"
  },
  "language_info": {
   "codemirror_mode": {
    "name": "ipython",
    "version": 2
   },
   "file_extension": ".py",
   "mimetype": "text/x-python",
   "name": "python",
   "nbconvert_exporter": "python",
   "pygments_lexer": "ipython2",
   "version": "2.7.12"
  }
 },
 "nbformat": 4,
 "nbformat_minor": 1
}
