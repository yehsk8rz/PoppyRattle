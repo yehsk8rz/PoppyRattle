{
 "cells": [
  {
   "cell_type": "markdown",
   "metadata": {
    "deletable": true,
    "editable": true
   },
   "source": [
    "#  Poppy-Rattle\n",
    "\n",
    "\n",
    "The Poppy Rattle is a project that is focused on modeling the effects of toy interaction on infant development.\n",
    "For example, if given a rattle to shake, how does an infant develop motor skill such as rhythm? Are there any effects on an infants reactionss to sounds in general, and perhaps is there any effect on early language development? All of these questions are relevent to this project.\n",
    "\n",
    "This version uses the working Poppy-Rattle library. Using the poppy format, it can be be switched between physical and simulated mode by passing an argument in the initialization."
   ]
  },
  {
   "cell_type": "code",
   "execution_count": 1,
   "metadata": {
    "collapsed": false,
    "deletable": true,
    "editable": true
   },
   "outputs": [
    {
     "name": "stdout",
     "output_type": "stream",
     "text": [
      "Populating the interactive namespace from numpy and matplotlib\n"
     ]
    }
   ],
   "source": [
    "%pylab inline\n",
    "\n",
    "from __future__ import division # the python 3 division - outputs double instead of am int\n",
    "from __future__ import print_function # the python 3 print function - print()\n",
    "from tqdm import tqdm # library add a progrees bar for an iterating for loops\n",
    "\n",
    "from explauto.environment import environments # library environment for modeling implementation\n",
    "\n",
    "import time,datetime # librraies to keep track of times\n",
    "import threading  # library for multithreading workloads\n",
    "\n",
    "import os    #\n",
    "import wave  # library for recording sound and exporting as a wave file\n",
    "import alsaaudio, audioop, sys\n",
    "\n",
    "\n",
    "from matplotlib.pyplot import specgram\n",
    "from scipy.io import wavfile\n",
    "\n",
    "import numpy as np # python's standard linear algebra library: needed for static arrays\n",
    "import pandas as pd    #\n",
    "import matplotlib.pyplot as plt # library for graphing data\n",
    "import torch as th    # a python version of Lua's Torch ML library.\n",
    "\n",
    "from poppy.creatures import PoppyRattle\n",
    "poppy = PoppyRattle()    # creates poppy object. For physical robot \n",
    "# poppy = PoppyRattle(simulator='vrep')    # creates poppy object. For simulated robot. vrep scene needs work\n",
    "\n",
    "# for loop primes the motors to be programmed\n",
    "for m in poppy.motors:\n",
    "    m.compliant = False\n",
    "    #m.goto_behavior = 'minjerk' # prevents jerky movements\n",
    "\n",
    "# Python (array) lists to store feedback data\n",
    "\n",
    "# for physical robot\n",
    "\n",
    "\n",
    "\n",
    "# activate microphone - A Logitech C920 webcam\n",
    "inp = alsaaudio.PCM(alsaaudio.PCM_CAPTURE,alsaaudio.PCM_NONBLOCK,device='sysdefault:CARD=C920')\n",
    "# for a standard usb microphone such as a Blue Yeti\n",
    "inp = alsaaudio.PCM(alsaaudio.PCM_CAPTURE,alsaaudio.PCM_NONBLOCK,device='sysdefault:CARD=Microphone')\n",
    "inp.setchannels(2)\n",
    "inp.setrate(88200)\n",
    "inp.setformat(alsaaudio.PCM_FORMAT_GSM)\n",
    "inp.setperiodsize(160)\n",
    "\n",
    "wavDir = \"../in_Data/{}\".format(datetime.datetime.fromtimestamp(time.time()).strftime('%Y-%m-%d'))\n",
    "if not os.path.exists(wavDir):\n",
    "    os.makedirs(wavDir)\n",
    "csvDir = \"../out_Data/csv/{}\".format(datetime.datetime.fromtimestamp(time.time()).strftime('%Y-%m-%d'))\n",
    "if not os.path.exists(csvDir):\n",
    "    os.makedirs(csvDir)\n",
    "pngDir = \"../out_Data/png/{}\".format(datetime.datetime.fromtimestamp(time.time()).strftime('%Y-%m-%d'))\n",
    "if not os.path.exists(pngDir):\n",
    "    os.makedirs(pngDir)"
   ]
  },
  {
   "cell_type": "markdown",
   "metadata": {
    "deletable": true,
    "editable": true
   },
   "source": [
    "# Motors\n",
    "\n",
    "poppy.r_shoulder_x:\n",
    "    * id: 52\n",
    "    * motor type: Dynamixel MX-28\n",
    "    * orientation: indirect\n",
    "    * angle offset: 0.0 degrees\n",
    "    * angle limit: -100.0 to 0.0 degrees \n",
    "\n",
    "poppy.r_shoulder_y\n",
    "    * id: 51\n",
    "    * motor type: Dynamixel MX-28\n",
    "    * orientation: indirect\n",
    "    * angle offset: 0.0 degrees\n",
    "    * angle limit: -50.0 to 170.0 degrees \n",
    "    \n",
    "poppy.r_arm_z\n",
    "    * id: 53\n",
    "    * motor type: Dynamixel MX-28\n",
    "    * orientation: indirect\n",
    "    * angle offset: 0.0 degrees\n",
    "    * angle limit: -90.0 to 90.0 degrees \n",
    "\n",
    "poppy.r_elbow_y\n",
    "    * id: 54\n",
    "    * motor type: Dynamixel MX-28\n",
    "    * orientation: indirect\n",
    "    * angle offset: 0.0 degrees\n",
    "    * angle limit: 0.0 to 130.0 degrees "
   ]
  },
  {
   "cell_type": "markdown",
   "metadata": {
    "deletable": true,
    "editable": true
   },
   "source": [
    "## A number of function commands for the robot\n",
    "\n",
    "These will be added to primitves down the line."
   ]
  },
  {
   "cell_type": "code",
   "execution_count": 2,
   "metadata": {
    "collapsed": false,
    "deletable": true,
    "editable": true
   },
   "outputs": [],
   "source": [
    "def rest_position():\n",
    "    \"\"\"\n",
    "    This command function returns the arm to a \"resting\" position, although it is more on the \n",
    "    lines of the attention position.\n",
    "    \n",
    "    For the physical arm, it is important to calibrate the motors so that the resting position \n",
    "    is set for all the motors is at angle 0. The simulator defaults to this, so this will \n",
    "    eliminate the need to constantly translate angles when switching between the two.\n",
    "    \"\"\"\n",
    "    poppy.r_shoulder_x.goal_position = 0   \n",
    "    poppy.r_shoulder_y.goal_position = 0\n",
    "    poppy.r_arm_z.goal_position = 0\n",
    "    poppy.r_elbow_y.goal_position = 0\n",
    "    \n",
    "\n",
    "def app():\n",
    "    \"\"\"\n",
    "    This function merely appends system sensory information into the appropriate python list.\n",
    "    \"\"\"\n",
    "    \n",
    "    #\n",
    "    if poppy.simulated == True:\n",
    "        # appends wrist position relative to head position\n",
    "        pos_Head.append(poppy.get_object_position('r_forearm_visual','head_visual'))\n",
    "        # appends wrist position relative to the center point between the feet\n",
    "        pos_Stand.append(poppy.get_object_position('r_forearm_visual')) \n",
    "    else:\n",
    "        # stores the angle position of all the motors\n",
    "        pos.append(poppy.r_shoulder_x.present_position)\n",
    "        pos.append(poppy.r_shoulder_y.present_position)\n",
    "        pos.append(poppy.r_arm_z.present_position)\n",
    "        pos.append(poppy.r_elbow_y.present_position)\n",
    "    \n",
    "    # appends the stress each motor is going through\n",
    "    sys_load.append(poppy.r_shoulder_x.present_load)\n",
    "    sys_load.append(poppy.r_shoulder_y.present_load)\n",
    "    sys_load.append(poppy.r_arm_z.present_load)\n",
    "    sys_load.append(poppy.r_elbow_y.present_load)\n",
    "   \n",
    "    # appends the angle speed each motor is currently traveling at \n",
    "    speed.append(poppy.r_shoulder_x.present_speed)\n",
    "    speed.append(poppy.r_shoulder_y.present_speed)\n",
    "    speed.append(poppy.r_arm_z.present_speed)\n",
    "    speed.append(poppy.r_elbow_y.present_speed)\n",
    "    \n",
    "    # appends system temperature for each motor\n",
    "    temp.append(poppy.r_shoulder_x.present_temperature)\n",
    "    temp.append(poppy.r_shoulder_y.present_temperature)\n",
    "    temp.append(poppy.r_arm_z.present_temperature)\n",
    "    temp.append(poppy.r_elbow_y.present_temperature)\n",
    "    \n",
    "    # appends the voltage ruuning through each motor\n",
    "    volt.append(poppy.r_shoulder_x.present_voltage)\n",
    "    volt.append(poppy.r_shoulder_y.present_voltage)\n",
    "    volt.append(poppy.r_arm_z.present_voltage)\n",
    "    volt.append(poppy.r_elbow_y.present_voltage)\n",
    "\n",
    "\n",
    "def hand_wave(sec=10, rest=0.5):\n",
    "    \"\"\"\n",
    "    This function is a primitive. When called, the robotic arm will move between two set point in space, defined by the angles the motors are travelling to.\n",
    "    \n",
    "        :param int sec: time in seconds for how long the arm will wave\n",
    "            ::default is set to 10 seconds\n",
    "        :param float rest: time in seconds for the time the arm has to finish its motion\n",
    "            ::default is set to 1/2 a second \n",
    "    \"\"\"\n",
    "    poppy.r_shoulder_y.goal_position = -150\n",
    "    poppy.r_shoulder_x.goal_position = 30\n",
    "    poppy.r_arm_z.goal_position = -50\n",
    "    poppy.r_elbow_y.goal_position = 0\n",
    "    time.sleep(1)\n",
    "    t0 = time.time()   # Gets the timestamp at the start of the waving motion\n",
    "    \n",
    "    \n",
    "    # This will loop through the two arm positions until the set time duration has elapsed. \n",
    "    while True:\n",
    "        t1 = time.time() # Gets the timestamp at the end of each loop\n",
    "        \n",
    "        if t1-t0 >= sec: # This will end the loop and wave motion when the allotted time has expired\n",
    "            break\n",
    "            \n",
    "        \n",
    "        # run for sec\n",
    "        app()\n",
    "        TIME.append(t1-t0)\n",
    "        poppy.r_shoulder_y.goal_position = -150\n",
    "        app()\n",
    "        TIME.append(t1-t0)\n",
    "        poppy.r_shoulder_x.goal_position = 30\n",
    "        app()\n",
    "        TIME.append(t1-t0)\n",
    "        poppy.r_arm_z.goal_position = -50\n",
    "        app()\n",
    "        TIME.append(t1-t0)\n",
    "        poppy.r_elbow_y.goal_position = 0\n",
    "        \n",
    "        app()\n",
    "        TIME.append(t1-t0)\n",
    "        time.sleep(rest)\n",
    "    \n",
    "        app()\n",
    "        TIME.append(t1-t0)\n",
    "        poppy.r_shoulder_y.goal_position = -130\n",
    "        app()\n",
    "        TIME.append(t1-t0)\n",
    "        poppy.r_shoulder_x.goal_position = -10\n",
    "        app()\n",
    "        TIME.append(t1-t0)\n",
    "        poppy.r_arm_z.goal_position = -70\n",
    "        app()\n",
    "        TIME.append(t1-t0)\n",
    "        poppy.r_elbow_y.goal_position = -65\n",
    "        \n",
    "        app()\n",
    "        TIME.append(t1-t0)\n",
    "        \n",
    "        time.sleep(rest)\n",
    "        app()\n",
    "        TIME.append(t1-t0)\n",
    "        \n",
    "        \n",
    "  \n",
    "        \n",
    "\n",
    "    \n",
    "\n",
    "\n",
    "    \n",
    "def rattle_shake(sec=10.5, rest=0.4):\n",
    "    \"\"\"\n",
    "    This function is a primitive. When called, the robotic arm will move between two set point\n",
    "    in space, defined by the angles the motors are travelling to. This will make the arm \n",
    "    perform a vertical movement in order to imitate an infant shaking a rattle.\n",
    "\n",
    "        :param int sec: time in seconds for how long the arm will wave\n",
    "            ::default is set to 20 seconds\n",
    "        :param float rest: time in seconds for the time the arm has to finish its motion\n",
    "            ::default is set to 0.4 seconds\n",
    "    \"\"\"\n",
    "    \n",
    "    # define the first point in space\n",
    "    shoulder_y0 = -45\n",
    "    shoulder_x0 = 0\n",
    "    arm_0 = 0\n",
    "    elbow_0 = -65\n",
    "    \n",
    "    # define the second point in space\n",
    "    shoulder_y1 = -30\n",
    "    shoulder_x1 = 0\n",
    "    arm_1 = 0\n",
    "    elbow_1 = -35\n",
    "    \n",
    "\n",
    "    \n",
    "    \n",
    "    t0 = time.time() # Gets the timestamp at the start of the waving motion\n",
    "    \n",
    "    # This will loop through the two arm positions until the set time duration has elapsed. \n",
    "    while True:signal = np.fromstring(signal, 'Int16')\n",
    "\n",
    "    #Split the data into channels \n",
    "    channels = [[] for channel in range(wav_file.getnchannels())]\n",
    "    for index, datum in enumerate(signal):\n",
    "        channels[index%len(channels)].append(datum)\n",
    "\n",
    "    #Get time from indices\n",
    "    fs = wav_file.getframerate()\n",
    "    Time=np.linspace(0, len(signal)/len(channels)/fs, num=len(signal)/len(channels))\n",
    "\n",
    "    #Plot\n",
    "    plt.figure(1)\n",
    "    plt.title('Signal Wave...')\n",
    "    for channel in channels:\n",
    "        plt.plot(Time,channel)\n",
    "    plt.show()\n",
    "\n",
    "        t1 = time.time() # Gets the timestamp at the start of each loop\n",
    "        \n",
    "        # This will end the loop and wave motion when the allotted time has expired\n",
    "        if t1-t0 >= sec: \n",
    "            break\n",
    "            \n",
    "        # arm moves to first position\n",
    "        app()\n",
    "        TIME.append(t1-t0)\n",
    "        poppy.r_shoulder_y.goal_position = shoulder_y0 #-45\n",
    "        app()\n",
    "        TIME.append(t1-t0)\n",
    "        poppy.r_shoulder_x.goal_position = shoulder_x0 #5\n",
    "        app()\n",
    "        TIME.append(t1-t0)\n",
    "        poppy.r_arm_z.goal_position = arm_0 #20\n",
    "        app()\n",
    "        TIME.append(t1-t0)\n",
    "        poppy.r_elbow_y.goal_position = elbow_0 #-129\n",
    "        \n",
    "\n",
    "        \n",
    "        app()\n",
    "        TIME.append(t1-t0)\n",
    "        time.sleep(rest)\n",
    "        \n",
    "        \n",
    "        # arm moves to second position\n",
    "        app()\n",
    "        TIME.append(t1-t0)\n",
    "        poppy.r_shoulder_y.goal_position = shoulder_y1 #-25\n",
    "        app()\n",
    "        TIME.append(t1-t0)\n",
    "        poppy.r_shoulder_x.goal_position = shoulder_x1  #0\n",
    "        app()\n",
    "        TIME.append(t1-t0)\n",
    "        poppy.r_arm_z.goal_position = arm_1; #0\n",
    "        app()\n",
    "        TIME.append(t1-t0)\n",
    "        poppy.r_elbow_y.goal_position = elbow_1 #-10\n",
    "        \n",
    "\n",
    "\n",
    "       \n",
    "        app()\n",
    "        TIME.append(t1-t0)\n",
    "        time.sleep(rest)\n",
    "        \n",
    "        \n",
    "        \n",
    "        app()\n",
    "        TIME.append(t1-t0)\n",
    "    \n",
    "         \n",
    "\n",
    "\n",
    "    \n"
   ]
  },
  {
   "cell_type": "code",
   "execution_count": 3,
   "metadata": {
    "collapsed": true,
    "deletable": true,
    "editable": true
   },
   "outputs": [],
   "source": [
    "#This script is used to move the poppy arm into anatomical poses.\n",
    "#Pictures will be edited for an anatomical reference.\n",
    "def anatomical(rest=3):\n",
    "        time.sleep(rest)\n",
    "#Lateral View Pictures\n",
    "#Figure 1\n",
    "    #Motor 51 Shoulder Flexion\n",
    "        poppy.r_shoulder_y.goal_position = 49 \n",
    "        time.sleep(rest)\n",
    "        #Rest Position\n",
    "        rest_position()\n",
    "    #Motor 51 Shoulder Extension\n",
    "        poppy.r_shoulder_y.goal_position = -169 \n",
    "        time.sleep(rest)\n",
    "        #Rest Position\n",
    "        rest_position()\n",
    "#Figure 2\n",
    "    #Motor 54 Elbow Extension\n",
    "        poppy.r_elbow_y.goal_position = 0 \n",
    "        time.sleep(rest)\n",
    "        #Rest Position\n",
    "        rest_position()\n",
    "    #Motor 54 Elbow Flexion\n",
    "        poppy.r_elbow_y.goal_position = -129\n",
    "        time.sleep(rest)\n",
    "        #Rest Position\n",
    "        rest_position()\n",
    "            \n",
    "#Anterior View Pictures\n",
    "#Figure 3\n",
    "    #Motor 53 Pronation\n",
    "        poppy.r_arm_z.goal_position = -20 \n",
    "        time.sleep(rest)\n",
    "        #Rest Position\n",
    "        rest_position()\n",
    "    #Motor 53 Supination\n",
    "        poppy.r_arm_z.goal_position = 94 \n",
    "        time.sleep(rest)\n",
    "        #Rest Position\n",
    "        rest_position()\n",
    "#Figure 4       \n",
    "    #Motor 52 Adduction\n",
    "        poppy.r_shoulder_x.goal_position = 0\n",
    "        time.sleep(rest)\n",
    "        #Rest Position\n",
    "        rest_position()\n",
    "    #Motor 52 Abduction    \n",
    "        poppy.r_shoulder_x.goal_position = 89\n",
    "        time.sleep(rest)\n",
    "        #Rest Position\n",
    "        rest_position()\n",
    "\n"
   ]
  },
  {
   "cell_type": "code",
   "execution_count": 4,
   "metadata": {
    "collapsed": true,
    "deletable": true,
    "editable": true
   },
   "outputs": [],
   "source": [
    "# audio recording setup\n",
    "# creates a new wavefile for each run\n",
    "def outFile():\n",
    "    DATE = datetime.datetime.fromtimestamp(time.time()).strftime('%Y-%m-%d')\n",
    "    TIME = datetime.datetime.fromtimestamp(time.time()).strftime('%H:%M:%S')\n",
    "    return \"../in_Data/{}/{}_rattle.wav\".format(DATE,TIME)"
   ]
  },
  {
   "cell_type": "code",
   "execution_count": 64,
   "metadata": {
    "collapsed": false,
    "deletable": true,
    "editable": true
   },
   "outputs": [],
   "source": [
    "def data_Output(outFile):\n",
    "    outPng = outFile.replace('in_Data','out_Data/png')\n",
    "    outPng = outPng.replace('.wav','.png')\n",
    "    outCSV = outFile.replace('in_Data','out_Data/csv')\n",
    "    outCSV = outCSV.replace('.wav','.csv')\n",
    "    spf = wave.open(out,'r')\n",
    "\n",
    "    #Extract Raw Audio from Wav File\n",
    "    signal = spf.readframes(-1)\n",
    "    signal = np.fromstring(signal, 'Int16')\n",
    "    fs = spf.getframerate()\n",
    "\n",
    "    Time=np.linspace(0, len(signal)/fs, num=len(signal))\n",
    "\n",
    "    plt.figure(1)\n",
    "    plt.title('Mel spectrogram(Stereo)')\n",
    "    plt.xlabel('Time(s)')\n",
    "    plt.ylabel('Frequency(Hz)')\n",
    "\n",
    "    plt.plot(Time,signal)\n",
    "    plt.savefig(outPng)\n",
    "    plt.show()    \n",
    "    \n",
    "    np.savetxt(outCSV, signal,delimiter=',',fmt='%.3e')\n",
    "\n"
   ]
  },
  {
   "cell_type": "code",
   "execution_count": 78,
   "metadata": {
    "collapsed": false,
    "deletable": true,
    "editable": true
   },
   "outputs": [],
   "source": [
    "# function causes the rattle to shake and record audio\n",
    "def alsa_rattle(function,outFile):\n",
    "    l = 0\n",
    "    data = ''\n",
    "    \n",
    "    # set up the wave file\n",
    "    w = wave.open(outFile,'w')\n",
    "    # Open the device in nonblocking capture mode. The last argument could\n",
    "    # just as well have been zero for blocking mode. Then we could have\n",
    "    # left out the sleep call in the bottomvim of the loop\n",
    "\n",
    "    w.setnchannels(2)\n",
    "    w.setsampwidth(2)\n",
    "    w.setframerate(44100)\n",
    "\n",
    "    total = 0\n",
    "    count = 0\n",
    "    \n",
    "    # allows function to run in parallel\n",
    "    t = threading.Thread(target=function)\n",
    "    t.start()\n",
    "    timeStart = time.time()\n",
    "    while t.is_alive():\n",
    "        \n",
    "        timeStop = time.time()\n",
    "        l,data = inp.read()\n",
    "        if l:\n",
    "            w.writeframes(data)\n",
    "        time.sleep(.001)\n",
    "    rest_position()\n",
    "\n",
    "    print(w.getnframes())\n",
    "    print(w.getframerate())\n",
    "    print(len(data))\n",
    "    data_Output(outFile)\n",
    "        "
   ]
  },
  {
   "cell_type": "markdown",
   "metadata": {
    "deletable": true,
    "editable": true
   },
   "source": [
    "## Resets the arrays and returns the arm to the resting position\n",
    "\n",
    "Useful for getting data on different motions independently."
   ]
  },
  {
   "cell_type": "code",
   "execution_count": 79,
   "metadata": {
    "collapsed": true,
    "deletable": true,
    "editable": true
   },
   "outputs": [],
   "source": [
    "rest_position()\n",
    "\n",
    "pos_Head = []\n",
    "pos_Stand = []\n",
    "pos = []\n",
    "TIME = []\n",
    "sys_load = []\n",
    "speed = []\n",
    "temp = []\n",
    "volt = []\n",
    "data_table = []  \n",
    "spike = [[],[]] "
   ]
  },
  {
   "cell_type": "markdown",
   "metadata": {
    "deletable": true,
    "editable": true
   },
   "source": [
    "### Calling movement functions"
   ]
  },
  {
   "cell_type": "code",
   "execution_count": 80,
   "metadata": {
    "collapsed": false,
    "deletable": true,
    "editable": true
   },
   "outputs": [
    {
     "name": "stdout",
     "output_type": "stream",
     "text": [
      "493850\n",
      "44100\n",
      "0\n"
     ]
    },
    {
     "name": "stderr",
     "output_type": "stream",
     "text": [
      "/usr/local/lib/python2.7/dist-packages/ipykernel/__main__.py:10: DeprecationWarning: Numeric-style type codes are deprecated and will result in an error in the future.\n"
     ]
    },
    {
     "data": {
      "image/png": "[encoded data removed]",
      "text/plain": [
       "<matplotlib.figure.Figure at 0x7f10e757d1d0>"
      ]
     },
     "metadata": {},
     "output_type": "display_data"
    }
   ],
   "source": [
    "# Run to make the arm perform a rattle shake movement\n",
    "out = outFile()\n",
    "alsa_rattle(rattle_shake, out)\n",
    "time.sleep(0.25) # Gives the arm a little time to complete a motion before commencing the next action\n",
    "rest_position()  # Optional: returns the arm to the resting position"
   ]
  },
  {
   "cell_type": "code",
   "execution_count": 81,
   "metadata": {
    "collapsed": false,
    "deletable": true,
    "editable": true
   },
   "outputs": [
    {
     "name": "stdout",
     "output_type": "stream",
     "text": [
      "485384\n",
      "44100\n",
      "0\n"
     ]
    },
    {
     "name": "stderr",
     "output_type": "stream",
     "text": [
      "/usr/local/lib/python2.7/dist-packages/ipykernel/__main__.py:10: DeprecationWarning: Numeric-style type codes are deprecated and will result in an error in the future.\n"
     ]
    },
    {
     "data": {
      "image/png": "[encoded data removed]",
      "text/plain": [
       "<matplotlib.figure.Figure at 0x7f10f9a10790>"
      ]
     },
     "metadata": {},
     "output_type": "display_data"
    }
   ],
   "source": [
    "# Run to to make the arm wave\n",
    "alsa_rattle(hand_wave,outFile())\n",
    "time.sleep(0.25) # Gives the arm a little time to complete a motion before commencing the next action\n",
    "rest_position()  # Optional: returns the arm to the resting position"
   ]
  },
  {
   "cell_type": "markdown",
   "metadata": {
    "collapsed": true,
    "deletable": true,
    "editable": true
   },
   "source": [
    "## Run when experiments are done\n",
    "\n",
    "This cell resets the robot and releases the robot.\n",
    "After running this set of commands, rerunning the setup cell is necessary\n",
    "\n",
    "### **NOTE**\n",
    "If this fails or some error occurs, it may be necessary to run a hard reset:\n",
    "    \n",
    "    For physical robot:\n",
    "        1. Unplug the robot\n",
    "    \n",
    "    For simulator:\n",
    "        1.Close the simulator\n",
    "    \n",
    "    2. Save and shutdown the ipython notebook\n",
    "    3. It may be a good idea to also close the jupyter-notebook server and restart from there."
   ]
  },
  {
   "cell_type": "code",
   "execution_count": 54,
   "metadata": {
    "collapsed": true,
    "deletable": true,
    "editable": true
   },
   "outputs": [],
   "source": [
    "# RUN at the end of working\n",
    "\n",
    "pos = []\n",
    "pos_Head = []\n",
    "pos_Stand = []\n",
    "TIME = []\n",
    "sys_load = []\n",
    "speed = []\n",
    "temp = []\n",
    "volt = []\n",
    "data_table = []\n",
    "spike = [[],[]]\n",
    "for m in poppy.motors:\n",
    "    m.compliant = True\n",
    "time.sleep(1)\n",
    "poppy.stop_sync()\n",
    "poppy.close()"
   ]
  },
  {
   "cell_type": "code",
   "execution_count": 31,
   "metadata": {
    "collapsed": true,
    "deletable": true,
    "editable": true
   },
   "outputs": [],
   "source": [
    "poppy.r_elbow_y.goal_position = -50 #0"
   ]
  },
  {
   "cell_type": "code",
   "execution_count": null,
   "metadata": {
    "collapsed": true,
    "deletable": true,
    "editable": true
   },
   "outputs": [],
   "source": [
    "# rms feature extraction - feed into explauto\n",
    "# proportion/total power over 400hz\n",
    "# mel spectrogram\n",
    "# amek explauto learn the motor sounds"
   ]
  }
 ],
 "metadata": {
  "kernelspec": {
   "display_name": "Python 2",
   "language": "python",
   "name": "python2"
  },
  "language_info": {
   "codemirror_mode": {
    "name": "ipython",
    "version": 2
   },
   "file_extension": ".py",
   "mimetype": "text/x-python",
   "name": "python",
   "nbconvert_exporter": "python",
   "pygments_lexer": "ipython2",
   "version": "2.7.12"
  }
 },
 "nbformat": 4,
 "nbformat_minor": 2
}
