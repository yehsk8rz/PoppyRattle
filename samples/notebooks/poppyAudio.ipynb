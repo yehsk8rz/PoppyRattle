{
 "cells": [
  {
   "cell_type": "code",
   "execution_count": 1,
   "metadata": {
    "collapsed": false,
    "deletable": true,
    "editable": true
   },
   "outputs": [
    {
     "name": "stdout",
     "output_type": "stream",
     "text": [
      "Populating the interactive namespace from numpy and matplotlib\n"
     ]
    },
    {
     "data": {
      "text/plain": [
       "2822L"
      ]
     },
     "execution_count": 1,
     "metadata": {},
     "output_type": "execute_result"
    }
   ],
   "source": [
    "# Imports and general setup\n",
    "\n",
    "# needed for plotting with a notebook cell\n",
    "%pylab inline\n",
    "\n",
    "from __future__ import division # the python 3 division - outputs double instead of am int\n",
    "from __future__ import print_function # the python 3 print function - print()\n",
    "from tqdm import tqdm # library add a progrees bar for an iterating for loops\n",
    "\n",
    "from explauto.environment import environments # library environment for modeling implementation\n",
    "\n",
    "# pypot libraries - the lower level of the poppy framework\n",
    "import pypot.dynamixel # library to control the servo motors\n",
    "import pypot.robot  # pypot library for robtic controlss\n",
    "\n",
    "import time,datetime # libraries to keep track of times\n",
    "import threading  # library for multithreading workloads\n",
    "\n",
    "import wave  # library for recording sound and exporting as a wave file\n",
    "import alsaaudio, audioop, sys, librosa  # library for recording sound\n",
    "\n",
    "import numpy as np # python's standard linear algebra library: needed for static arrays\n",
    "import matplotlib.pyplot as plt # library for graphing data\n",
    "\n",
    "\n",
    "# format for setting up the poppy arm pecause the poppy is not working for us yet\n",
    "my_config ={}\n",
    "my_config['controllers'] = {}\n",
    "my_config['controllers']['upper_body_controler'] = {\n",
    "    'port': '/dev/ttyUSB0',     # For Linux\n",
    "    #'port': '/dev/tty.usbserial-AI03QEN0', # For OSX\n",
    "    'sync_read': False,\n",
    "    'attached_motors': ['arms'],\n",
    "    'protocol': 1,\n",
    "}\n",
    "my_config['motorgroups']={}\n",
    "my_config['motorgroups'] = {\n",
    "    'arms': ['right_arm'],\n",
    "    'right_arm': ['r_shoulder_x', 'r_shoulder_y', 'r_arm_z','r_elbow_y']\n",
    "}\n",
    "my_config['motors'] = {}\n",
    "my_config['motors']['r_shoulder_y'] = {\n",
    "    'id': 51,\n",
    "    'type': 'MX-28',\n",
    "    'orientation': 'indirect',\n",
    "    'offset': 0.0,\n",
    "    'angle_limit': (-50, 170),\n",
    "}\n",
    "my_config['motors']['r_shoulder_x'] = {\n",
    "    'id': 52,\n",
    "    'type': 'MX-28',\n",
    "    'orientation': 'indirect',\n",
    "    'offset': 0.0,\n",
    "    'angle_limit': (-90, 0),\n",
    "}\n",
    "my_config['motors']['r_arm_z'] = {\n",
    "    'id': 53,\n",
    "    'type': 'MX-28',\n",
    "    'orientation': 'indirect',\n",
    "    'offset': 0.0,\n",
    "    'angle_limit': (-20, 95),\n",
    "}\n",
    "my_config['motors']['r_elbow_y'] = {\n",
    "    'id': 54,\n",
    "    'type': 'MX-28',\n",
    "    'orientation': 'indirect',\n",
    "    'offset': 0.0,\n",
    "    'angle_limit': (0, 130),\n",
    "}\n",
    "\n",
    "poppy = pypot.robot.from_config(my_config)  # initiates the poppy object\n",
    "\n",
    "poppy.start_sync()  # sync the motors so he\n",
    "time.sleep(2)  # pauses the program \n",
    "\n",
    "\n",
    "# for loop primes the motors to be programmed\n",
    "for m in poppy.motors:\n",
    "    m.compliant = False\n",
    "    m.goto_behavior = 'minjerk' # prevents jerky movements\n",
    "\n",
    "# arrays to store data\n",
    "pos = []  # stores the angle position of all the motors at a given point in time\n",
    "TIME = []  # stores a timestamp of when an action is occuring\n",
    "sys_load = []  # stores the load (stress) the motors or under at any one time\n",
    "speed = []  # stores the angle speed the motors are moving at any one time\n",
    "temp = []  # stores the temperature of the motors at any point in time\n",
    "volt = []  # stores the voltage going through each motor at any one time\n",
    "\n",
    "# specific arrays for the rattle shaking movement\n",
    "data_table = []  # stores the sound features of a recording\n",
    "spike = [[],[]]  # stores instances of abnormal spikes in sound features and a given timestamp\n",
    "\n",
    "\n",
    "# activate microphone - A Logitech webcam\n",
    "inp = alsaaudio.PCM(alsaaudio.PCM_CAPTURE,alsaaudio.PCM_NONBLOCK,device='sysdefault:CARD=C920')\n",
    "inp.setchannels(2)\n",
    "inp.setrate(88200)  # while 44100 is normal, as it is the default in software like Audacity, it is\n",
    "inp.setformat(alsaaudio.PCM_FORMAT_GSM)\n",
    "inp.setperiodsize(160)\n",
    "\n",
    "\n"
   ]
  },
  {
   "cell_type": "code",
   "execution_count": 42,
   "metadata": {
    "collapsed": false,
    "deletable": true,
    "editable": true
   },
   "outputs": [],
   "source": [
    "# Primitive actions\n",
    "\n",
    "# puts the arm in an \"attention\" stance\n",
    "def rest_position():\n",
    "    poppy.r_shoulder_x.goal_position = 0\n",
    "    poppy.r_shoulder_y.goal_position = 0\n",
    "    poppy.r_arm_z.goal_position = 0\n",
    "    poppy.r_elbow_y.goal_position = 0\n",
    "\n",
    "# stores data from the motors about their various statistics\n",
    "def app():\n",
    "    # stores the angle position of all the motors\n",
    "    pos.append(poppy.r_shoulder_x.present_position)\n",
    "    pos.append(poppy.r_shoulder_y.present_position)\n",
    "    pos.append(poppy.r_arm_z.present_position)\n",
    "    pos.append(poppy.r_elbow_y.present_position)\n",
    "\n",
    "    # stores the load on all the motors\n",
    "    sys_load.append(poppy.r_shoulder_x.present_load)\n",
    "    sys_load.append(poppy.r_shoulder_y.present_load)\n",
    "    sys_load.append(poppy.r_arm_z.present_load)\n",
    "    sys_load.append(poppy.r_elbow_y.present_load)\n",
    "    \n",
    "    # stores the angle speed the motors are traveling at\n",
    "    speed.append(poppy.r_shoulder_x.present_speed)\n",
    "    speed.append(poppy.r_shoulder_y.present_speed)\n",
    "    speed.append(poppy.r_arm_z.present_speed)\n",
    "    speed.append(poppy.r_elbow_y.present_speed)\n",
    "    \n",
    "    # stores the tempurature of the motors\n",
    "    temp.append(poppy.r_shoulder_x.present_temperature)\n",
    "    temp.append(poppy.r_shoulder_y.present_temperature)\n",
    "    temp.append(poppy.r_arm_z.present_temperature)\n",
    "    temp.append(poppy.r_elbow_y.present_temperature)\n",
    "    \n",
    "    # stores the current voltage a load is requiring the motors to use\n",
    "    volt.append(poppy.r_shoulder_x.present_voltage)\n",
    "    volt.append(poppy.r_shoulder_y.present_voltage) \n",
    "    volt.append(poppy.r_arm_z.present_voltage)\n",
    "    volt.append(poppy.r_elbow_y.present_voltage)\n",
    "    \n",
    "def hand_wave(sec=10, rest=0.5):\n",
    "    \"\"\"\n",
    "    This function is a primitive. When called, the robotic arm will move between two set point in space, defined by the angles the motors are travelling to.\n",
    "    \n",
    "        :param int sec: time in seconds for how long the arm will wave\n",
    "            ::default is set to 10 seconds\n",
    "        :param float rest: time in seconds for the time the arm has to finish its motion\n",
    "            ::default is set to 1/2 a second \n",
    "    \"\"\"\n",
    "    \n",
    "    t0 = time.time()   # Gets the timestamp at the start of the waving motion\n",
    "    \n",
    "    \n",
    "    # This will loop through the two arm positions until the set time duration has elapsed. \n",
    "    while True:\n",
    "\n",
    "        # run for sec\n",
    "        app()\n",
    "        TIME.append(t1-t0)\n",
    "        poppy.r_shoulder_y.goal_position = 30\n",
    "        app()\n",
    "        TIME.append(t1-t0)\n",
    "        poppy.r_shoulder_x.goal_position = -135\n",
    "        app()\n",
    "        TIME.append(t1-t0)\n",
    "        poppy.r_arm_z.goal_position = -120;\n",
    "        app()\n",
    "        TIME.append(t1-t0)\n",
    "        poppy.r_elbow_y.goal_position = 0\n",
    "        \n",
    "        app()\n",
    "        TIME.append(t1-t0)\n",
    "        time.sleep(rest)\n",
    "    \n",
    "        app()\n",
    "        TIME.append(t1-t0)\n",
    "        poppy.r_shoulder_y.goal_position = 45\n",
    "        app()\n",
    "        TIME.append(t1-t0)\n",
    "        poppy.r_shoulder_x.goal_position = -175\n",
    "        app()\n",
    "        TIME.append(t1-t0)\n",
    "        poppy.r_arm_z.goal_position = -120\n",
    "        app()\n",
    "        TIME.append(t1-t0)\n",
    "        poppy.r_elbow_y.goal_position = -65\n",
    "        \n",
    "        app()\n",
    "        TIME.append(t1-t0)\n",
    "        \n",
    "        time.sleep(rest)\n",
    "        app()\n",
    "        TIME.append(t1-t0)\n",
    "        \n",
    "        \n",
    "        t1 = time.time() # Gets the timestamp at the end of each loop\n",
    "        \n",
    "        if t1-t0 >= sec: # This will end the loop and wave motion when the allotted time has expired\n",
    "            break\n",
    "        \n",
    "# function makes the arm shake a rattle\n",
    "def rattle_shake(sec=20, rest=.4):\n",
    "    \n",
    "    # define the first point in space\n",
    "    shoulder_y0 = -45\n",
    "    shoulder_x0 = 0\n",
    "    arm_0 = 0\n",
    "    elbow_0 = -65\n",
    "    \n",
    "    # define the second point in space\n",
    "    shoulder_y1 = -30\n",
    "    shoulder_x1 = 0\n",
    "    arm_1 = 0\n",
    "    elbow_1 = -35\n",
    "    \n",
    "    # speed adjustments to be more infant like\n",
    "    poppy.r_shoulder_y.moving_speed = abs(shoulder_y1-shoulder_y0) / rest\n",
    "    poppy.r_shoulder_x.moving_speed = abs(shoulder_x1-shoulder_x0) / rest\n",
    "    poppy.r_arm_z.moving_speed = abs(arm_1-arm_0) / rest\n",
    "    poppy.r_elbow_y.moving_speed = abs(elbow_1-elbow_0) / rest\n",
    "\n",
    "    t0 = time.time()\n",
    "    while True:\n",
    "              \n",
    "        t1 = time.time() # this time gets updated at each loop\n",
    "        if t1-t0 >= sec:  # difference between t1 and t0 indicates elapsed time\n",
    "            break  # when time elapsed exceeds alotted runtime loop is exited\n",
    "            \n",
    "        \n",
    "\n",
    "        # arm moves to first position\n",
    "        app()\n",
    "        TIME.append(t1-t0)\n",
    "        poppy.r_shoulder_y.goal_position = shoulder_y0 #-45\n",
    "        app()\n",
    "        TIME.append(t1-t0)\n",
    "        poppy.r_shoulder_x.goal_position = shoulder_x0 #5\n",
    "        app()\n",
    "        TIME.append(t1-t0)\n",
    "        poppy.r_arm_z.goal_position = arm_0 #20\n",
    "        app()\n",
    "        TIME.append(t1-t0)\n",
    "        poppy.r_elbow_y.goal_position = elbow_0 #-129\n",
    "        \n",
    "\n",
    "        \n",
    "        app()\n",
    "        TIME.append(t1-t0)\n",
    "        time.sleep(rest)\n",
    "        \n",
    "        \n",
    "        # arm moves to second position\n",
    "        app()\n",
    "        TIME.append(t1-t0)\n",
    "        poppy.r_shoulder_y.goal_position = shoulder_y1 #-25\n",
    "        app()\n",
    "        TIME.append(t1-t0)\n",
    "        poppy.r_shoulder_x.goal_position = shoulder_x1  #0\n",
    "        app()\n",
    "        TIME.append(t1-t0)\n",
    "        poppy.r_arm_z.goal_position = arm_1; #0\n",
    "        app()\n",
    "        TIME.append(t1-t0)\n",
    "        poppy.r_elbow_y.goal_position = elbow_1 #-10\n",
    "        \n",
    "\n",
    "\n",
    "       \n",
    "        app()\n",
    "        TIME.append(t1-t0)\n",
    "        time.sleep(rest)\n",
    "        \n",
    "        \n",
    "        \n",
    "        app()\n",
    "        TIME.append(t1-t0)\n",
    "    \n",
    "\n",
    "    \n",
    "    # resets motor speed\n",
    "    for x in poppy.motors:\n",
    "            x.moving_speed = 90\n"
   ]
  },
  {
   "cell_type": "code",
   "execution_count": 43,
   "metadata": {
    "collapsed": true,
    "deletable": true,
    "editable": true
   },
   "outputs": [],
   "source": [
    "#This script is used to move the poppy arm into anatomical poses.\n",
    "#Pictures will be edited for an anatomical reference.\n",
    "def anatomical(rest=3):\n",
    "        time.sleep(rest)\n",
    "#Lateral View Pictures\n",
    "#Figure 1\n",
    "    #Motor 51 Shoulder Flexion\n",
    "        poppy.r_shoulder_y.goal_position = 49 \n",
    "        time.sleep(rest)\n",
    "        #Rest Position\n",
    "        rest_position()\n",
    "    #Motor 51 Shoulder Extension\n",
    "        poppy.r_shoulder_y.goal_position = -169 \n",
    "        time.sleep(rest)\n",
    "        #Rest Position\n",
    "        rest_position()\n",
    "#Figure 2\n",
    "    #Motor 54 Elbow Extension\n",
    "        poppy.r_elbow_y.goal_position = 0 \n",
    "        time.sleep(rest)\n",
    "        #Rest Position\n",
    "        rest_position()\n",
    "    #Motor 54 Elbow Flexion\n",
    "        poppy.r_elbow_y.goal_position = -129\n",
    "        time.sleep(rest)\n",
    "        #Rest Position\n",
    "        rest_position()\n",
    "            \n",
    "#Anterior View Pictures\n",
    "#Figure 3\n",
    "    #Motor 53 Pronation\n",
    "        poppy.r_arm_z.goal_position = -20 \n",
    "        time.sleep(rest)\n",
    "        #Rest Position\n",
    "        rest_position()\n",
    "    #Motor 53 Supination\n",
    "        poppy.r_arm_z.goal_position = 94 \n",
    "        time.sleep(rest)\n",
    "        #Rest Position\n",
    "        rest_position()\n",
    "#Figure 4       \n",
    "    #Motor 52 Adduction\n",
    "        poppy.r_shoulder_x.goal_position = 0\n",
    "        time.sleep(rest)\n",
    "        #Rest Position\n",
    "        rest_position()\n",
    "    #Motor 52 Abduction    \n",
    "        poppy.r_shoulder_x.goal_position = 89\n",
    "        time.sleep(rest)\n",
    "        #Rest Position\n",
    "        rest_position()\n",
    "\n"
   ]
  },
  {
   "cell_type": "code",
   "execution_count": 44,
   "metadata": {
    "collapsed": false,
    "deletable": true,
    "editable": true
   },
   "outputs": [],
   "source": [
    "# audio recording setup\n",
    "# creates a new wavefile for each run\n",
    "def outFile():\n",
    "    return \"../out_Data/rattle_{}.wav\".format(datetime.datetime.fromtimestamp(time.time()).strftime('%Y-%m-%d_%H:%M:%S'))"
   ]
  },
  {
   "cell_type": "code",
   "execution_count": 45,
   "metadata": {
    "collapsed": true,
    "deletable": true,
    "editable": true
   },
   "outputs": [],
   "source": [
    "# this cell is for resetting the arm to a resting position\n",
    "rest_position()\n",
    "data_table=[]\n",
    "spike = [[],[]]"
   ]
  },
  {
   "cell_type": "code",
   "execution_count": 46,
   "metadata": {
    "collapsed": false,
    "deletable": true,
    "editable": true
   },
   "outputs": [],
   "source": [
    "# function causes the rattle to shake and record audio\n",
    "def alsa_rattle():\n",
    "    # set up the wave file\n",
    "    w = wave.open(outFile(),'w')\n",
    "    # Open the device in nonblocking capture mode. The last argument could\n",
    "    # just as well have been zero for blocking mode. Then we could have\n",
    "    # left out the sleep call in the bottomvim of the loop\n",
    "\n",
    "    w.setnchannels(2)\n",
    "    w.setsampwidth(2)\n",
    "    w.setframerate(44100)\n",
    "\n",
    "    total = 0\n",
    "    \n",
    "    # allows function to run in parallel\n",
    "    t = threading.Thread(target=rattle_shake)\n",
    "    t.start()\n",
    "    timeStart = time.time()\n",
    "    while t.is_alive():\n",
    "        timeStop = time.time()\n",
    "        l,data = inp.read()\n",
    "        if l:\n",
    "            # Return the maximum of the absolute value of all samples in a fragment.\n",
    "            frame = audioop.max(data,2)\n",
    "            data_table.append(frame)\n",
    "            total += frame\n",
    "            ave = total / len(data_table)\n",
    "            if(len(data_table) > 25) :\n",
    "                if (frame > ave * 1.34):\n",
    "                    spike[0].append(timeStop - timeStart)\n",
    "                    spike[1].append(frame)\n",
    "            w.writeframes(data)\n",
    "            # print audioop.max(data, 2)\n",
    "        time.sleep(.001)\n",
    "    rest_position()"
   ]
  },
  {
   "cell_type": "code",
   "execution_count": 47,
   "metadata": {
    "collapsed": false,
    "deletable": true,
    "editable": true
   },
   "outputs": [],
   "source": [
    "# execute the rattle command\n",
    "alsa_rattle()\n",
    "rest_position()"
   ]
  },
  {
   "cell_type": "code",
   "execution_count": 39,
   "metadata": {
    "collapsed": false,
    "deletable": true,
    "editable": true
   },
   "outputs": [
    {
     "data": {
      "text/plain": [
       "56"
      ]
     },
     "execution_count": 39,
     "metadata": {},
     "output_type": "execute_result"
    }
   ],
   "source": [
    "len(spike[0])"
   ]
  },
  {
   "cell_type": "code",
   "execution_count": 40,
   "metadata": {
    "collapsed": false,
    "deletable": true,
    "editable": true
   },
   "outputs": [
    {
     "data": {
      "text/plain": [
       "[<matplotlib.lines.Line2D at 0x7f13817abd90>]"
      ]
     },
     "execution_count": 40,
     "metadata": {},
     "output_type": "execute_result"
    },
    {
     "data": {
      "image/png": "[encoded data removed]",
      "text/plain": [
       "<matplotlib.figure.Figure at 0x7f13817abad0>"
      ]
     },
     "metadata": {},
     "output_type": "display_data"
    }
   ],
   "source": [
    "plt.plot(spike[0],spike[1])"
   ]
  },
  {
   "cell_type": "code",
   "execution_count": 41,
   "metadata": {
    "collapsed": false,
    "deletable": true,
    "editable": true
   },
   "outputs": [
    {
     "data": {
      "text/plain": [
       "[<matplotlib.lines.Line2D at 0x7f138160fdd0>]"
      ]
     },
     "execution_count": 41,
     "metadata": {},
     "output_type": "execute_result"
    },
    {
     "data": {
      "image/png": "[encoded data removed]",
      "text/plain": [
       "<matplotlib.figure.Figure at 0x7f1381686990>"
      ]
     },
     "metadata": {},
     "output_type": "display_data"
    }
   ],
   "source": [
    "plt.plot(data_table)"
   ]
  },
  {
   "cell_type": "code",
   "execution_count": 25,
   "metadata": {
    "collapsed": false,
    "deletable": true,
    "editable": true
   },
   "outputs": [
    {
     "name": "stdout",
     "output_type": "stream",
     "text": [
      "90\n",
      "90\n",
      "90\n",
      "90\n"
     ]
    }
   ],
   "source": [
    "for x in poppy.motors:\n",
    "    print(x.moving_speed)"
   ]
  },
  {
   "cell_type": "code",
   "execution_count": 105,
   "metadata": {
    "collapsed": true,
    "deletable": true,
    "editable": true
   },
   "outputs": [],
   "source": [
    "poppy.r_shoulder_y.goal_position = -45 #-10\n",
    "poppy.r_shoulder_x.goal_position = 5  #0\n",
    "poppy.r_arm_z.goal_position = 20; #0\n",
    "poppy.r_elbow_y.goal_position = -65 #0"
   ]
  },
  {
   "cell_type": "code",
   "execution_count": 104,
   "metadata": {
    "collapsed": true,
    "deletable": true,
    "editable": true
   },
   "outputs": [],
   "source": [
    "poppy.r_shoulder_y.goal_position = -30 #-10\n",
    "poppy.r_shoulder_x.goal_position = 0  #0\n",
    "poppy.r_arm_z.goal_position = 0; #0\n",
    "poppy.r_elbow_y.goal_position = -35 #0"
   ]
  },
  {
   "cell_type": "code",
   "execution_count": 6,
   "metadata": {
    "collapsed": true,
    "deletable": true,
    "editable": true
   },
   "outputs": [],
   "source": [
    "rattle_shake(sec=4)\n",
    "rest_position()"
   ]
  },
  {
   "cell_type": "code",
   "execution_count": 49,
   "metadata": {
    "collapsed": false,
    "deletable": true,
    "editable": true
   },
   "outputs": [],
   "source": [
    "# RUN at the end of working\n",
    "\n",
    "pos = []\n",
    "TIME = []\n",
    "sys_load = []\n",
    "speed = []\n",
    "temp = []\n",
    "volt = []\n",
    "data_table = []\n",
    "spike = [[],[]]\n",
    "for m in poppy.motors:\n",
    "    m.compliant = True\n",
    "time.sleep(1)\n",
    "poppy.stop_sync()\n",
    "poppy.close()"
   ]
  },
  {
   "cell_type": "code",
   "execution_count": 17,
   "metadata": {
    "collapsed": true,
    "deletable": true,
    "editable": true
   },
   "outputs": [],
   "source": []
  },
  {
   "cell_type": "code",
   "execution_count": null,
   "metadata": {
    "collapsed": true,
    "deletable": true,
    "editable": true
   },
   "outputs": [],
   "source": []
  }
 ],
 "metadata": {
  "kernelspec": {
   "display_name": "Python 2",
   "language": "python",
   "name": "python2"
  },
  "language_info": {
   "codemirror_mode": {
    "name": "ipython",
    "version": 2
   },
   "file_extension": ".py",
   "mimetype": "text/x-python",
   "name": "python",
   "nbconvert_exporter": "python",
   "pygments_lexer": "ipython2",
   "version": "2.7.12"
  }
 },
 "nbformat": 4,
 "nbformat_minor": 2
}
